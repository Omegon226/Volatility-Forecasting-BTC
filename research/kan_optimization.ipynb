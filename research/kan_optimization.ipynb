{
 "cells": [
  {
   "cell_type": "markdown",
   "id": "92bf0f80-fe4a-4c63-ac89-012e0705c98b",
   "metadata": {},
   "source": [
    "# Подключение зависимостей"
   ]
  },
  {
   "cell_type": "code",
   "execution_count": 3,
   "id": "ed414046-2af5-4775-8084-ed8fdec4bf91",
   "metadata": {},
   "outputs": [],
   "source": [
    "import numpy as np\n",
    "import pandas as pd\n",
    "import matplotlib.pyplot as plt\n",
    "import seaborn as sns\n",
    "import datetime\n",
    "import ccxt\n",
    "from IPython.display import clear_output, display\n",
    "import dill\n",
    "\n",
    "#sns.set_theme()\n",
    "%matplotlib inline"
   ]
  },
  {
   "cell_type": "code",
   "execution_count": 4,
   "id": "59c4bd0a-52ec-4a89-8cb9-e6d9588d248b",
   "metadata": {},
   "outputs": [],
   "source": [
    "import mlflow\n",
    "from mlflow.tracking import MlflowClient\n",
    "\n",
    "from utilsforecast import losses\n",
    "from utilsforecast.plotting import plot_series\n",
    "from neuralforecast import NeuralForecast\n",
    "from neuralforecast.models import NLinear, DLinear, KAN, NBEATS, NHITS, TFT, LSTM\n",
    "from neuralforecast.losses.pytorch import MAE, RMSE, HuberLoss, MQLoss\n",
    "\n",
    "import optuna"
   ]
  },
  {
   "cell_type": "markdown",
   "id": "e2e68fa6-1289-4c55-ac26-ee26b6c80618",
   "metadata": {},
   "source": [
    "# Подключение к MLFlow"
   ]
  },
  {
   "cell_type": "code",
   "execution_count": 5,
   "id": "521554b5-a5ab-45ec-b5c2-a0a05f2fa649",
   "metadata": {},
   "outputs": [],
   "source": [
    "mlflow.set_tracking_uri(\"http://mlflow:5000\")"
   ]
  },
  {
   "cell_type": "code",
   "execution_count": 6,
   "id": "ef631ef0-b33e-44de-9670-5d4f23b5a5f4",
   "metadata": {},
   "outputs": [
    {
     "data": {
      "text/plain": [
       "<Experiment: artifact_location='mlflow-artifacts:/4', creation_time=1727724856279, experiment_id='4', last_update_time=1727724856279, lifecycle_stage='active', name='btc-usdt_volatility_kan', tags={}>"
      ]
     },
     "execution_count": 6,
     "metadata": {},
     "output_type": "execute_result"
    }
   ],
   "source": [
    "mlflow.set_experiment(\"btc-usdt_volatility_kan\")"
   ]
  },
  {
   "cell_type": "markdown",
   "id": "f0c7546e-e15a-4143-a722-d5e635c8c300",
   "metadata": {},
   "source": [
    "# Подготовка данных"
   ]
  },
  {
   "cell_type": "code",
   "execution_count": 7,
   "id": "315529e8-7d09-4b5f-9220-0842f231a46c",
   "metadata": {},
   "outputs": [],
   "source": [
    "# Биржа из которой будут браться данные с помощью CCXT\n",
    "EXCHANGE = ccxt.okx()\n",
    "# Инструмент в формате символа для обработки\n",
    "SYMBOL = \"BTC/USDT\"\n",
    "# Таймфрейм свеч\n",
    "TIMEFRAME = \"1h\""
   ]
  },
  {
   "cell_type": "code",
   "execution_count": 8,
   "id": "61459c72-0c4d-41be-b565-faf568e7ce53",
   "metadata": {},
   "outputs": [
    {
     "name": "stdout",
     "output_type": "stream",
     "text": [
      "2024-10-01T10:00:00.000Z"
     ]
    }
   ],
   "source": [
    "from_ts = EXCHANGE.parse8601('2022-01-01 00:00:00')\n",
    "\n",
    "ohlcv_list = []\n",
    "ohlcv = EXCHANGE.fetch_ohlcv(symbol=SYMBOL, timeframe=TIMEFRAME, since=from_ts, limit=100)\n",
    "ohlcv_list.append(ohlcv)\n",
    "\n",
    "while True:\n",
    "    from_ts = ohlcv[-1][0]\n",
    "    new_ohlcv = EXCHANGE.fetch_ohlcv(symbol=SYMBOL, timeframe=TIMEFRAME, since=from_ts, limit=100)\n",
    "    ohlcv.extend(new_ohlcv)\n",
    "\n",
    "    print(f\"\\r{EXCHANGE.iso8601(from_ts)}\", end=\"\")\n",
    "    \n",
    "    if len(new_ohlcv) <= 1:\n",
    "    \tbreak"
   ]
  },
  {
   "cell_type": "code",
   "execution_count": 9,
   "id": "24b173ae-7e7c-4811-b532-c81c9bb6712a",
   "metadata": {},
   "outputs": [
    {
     "data": {
      "text/html": [
       "<div>\n",
       "<style scoped>\n",
       "    .dataframe tbody tr th:only-of-type {\n",
       "        vertical-align: middle;\n",
       "    }\n",
       "\n",
       "    .dataframe tbody tr th {\n",
       "        vertical-align: top;\n",
       "    }\n",
       "\n",
       "    .dataframe thead th {\n",
       "        text-align: right;\n",
       "    }\n",
       "</style>\n",
       "<table border=\"1\" class=\"dataframe\">\n",
       "  <thead>\n",
       "    <tr style=\"text-align: right;\">\n",
       "      <th></th>\n",
       "      <th>date</th>\n",
       "      <th>open</th>\n",
       "      <th>high</th>\n",
       "      <th>low</th>\n",
       "      <th>close</th>\n",
       "      <th>volume</th>\n",
       "      <th>close_pct_change</th>\n",
       "    </tr>\n",
       "  </thead>\n",
       "  <tbody>\n",
       "    <tr>\n",
       "      <th>0</th>\n",
       "      <td>2022-01-01 00:00:00</td>\n",
       "      <td>46218.3</td>\n",
       "      <td>46742.0</td>\n",
       "      <td>46216.2</td>\n",
       "      <td>46654.3</td>\n",
       "      <td>505.065361</td>\n",
       "      <td>0.000000</td>\n",
       "    </tr>\n",
       "    <tr>\n",
       "      <th>1</th>\n",
       "      <td>2022-01-01 01:00:00</td>\n",
       "      <td>46655.1</td>\n",
       "      <td>46943.0</td>\n",
       "      <td>46578.5</td>\n",
       "      <td>46780.1</td>\n",
       "      <td>394.933309</td>\n",
       "      <td>0.269643</td>\n",
       "    </tr>\n",
       "    <tr>\n",
       "      <th>2</th>\n",
       "      <td>2022-01-01 02:00:00</td>\n",
       "      <td>46780.1</td>\n",
       "      <td>46927.3</td>\n",
       "      <td>46725.5</td>\n",
       "      <td>46803.7</td>\n",
       "      <td>237.989272</td>\n",
       "      <td>0.050449</td>\n",
       "    </tr>\n",
       "    <tr>\n",
       "      <th>3</th>\n",
       "      <td>2022-01-01 03:00:00</td>\n",
       "      <td>46809.8</td>\n",
       "      <td>46902.7</td>\n",
       "      <td>46760.1</td>\n",
       "      <td>46809.1</td>\n",
       "      <td>214.709120</td>\n",
       "      <td>0.011538</td>\n",
       "    </tr>\n",
       "    <tr>\n",
       "      <th>4</th>\n",
       "      <td>2022-01-01 04:00:00</td>\n",
       "      <td>46807.7</td>\n",
       "      <td>46879.0</td>\n",
       "      <td>46631.8</td>\n",
       "      <td>46708.5</td>\n",
       "      <td>311.885979</td>\n",
       "      <td>-0.214915</td>\n",
       "    </tr>\n",
       "    <tr>\n",
       "      <th>...</th>\n",
       "      <td>...</td>\n",
       "      <td>...</td>\n",
       "      <td>...</td>\n",
       "      <td>...</td>\n",
       "      <td>...</td>\n",
       "      <td>...</td>\n",
       "      <td>...</td>\n",
       "    </tr>\n",
       "    <tr>\n",
       "      <th>24346</th>\n",
       "      <td>2024-10-01 07:00:00</td>\n",
       "      <td>64030.9</td>\n",
       "      <td>64128.0</td>\n",
       "      <td>63918.2</td>\n",
       "      <td>64044.9</td>\n",
       "      <td>296.612599</td>\n",
       "      <td>0.022489</td>\n",
       "    </tr>\n",
       "    <tr>\n",
       "      <th>24347</th>\n",
       "      <td>2024-10-01 08:00:00</td>\n",
       "      <td>64045.0</td>\n",
       "      <td>64097.9</td>\n",
       "      <td>63824.1</td>\n",
       "      <td>63946.6</td>\n",
       "      <td>259.512373</td>\n",
       "      <td>-0.153486</td>\n",
       "    </tr>\n",
       "    <tr>\n",
       "      <th>24348</th>\n",
       "      <td>2024-10-01 09:00:00</td>\n",
       "      <td>63946.5</td>\n",
       "      <td>64102.2</td>\n",
       "      <td>63852.3</td>\n",
       "      <td>63863.9</td>\n",
       "      <td>168.794288</td>\n",
       "      <td>-0.129327</td>\n",
       "    </tr>\n",
       "    <tr>\n",
       "      <th>24349</th>\n",
       "      <td>2024-10-01 10:00:00</td>\n",
       "      <td>63864.0</td>\n",
       "      <td>63913.8</td>\n",
       "      <td>63722.0</td>\n",
       "      <td>63899.9</td>\n",
       "      <td>110.108207</td>\n",
       "      <td>0.056370</td>\n",
       "    </tr>\n",
       "    <tr>\n",
       "      <th>24350</th>\n",
       "      <td>2024-10-01 10:00:00</td>\n",
       "      <td>63864.0</td>\n",
       "      <td>63913.8</td>\n",
       "      <td>63722.0</td>\n",
       "      <td>63899.9</td>\n",
       "      <td>110.108207</td>\n",
       "      <td>0.000000</td>\n",
       "    </tr>\n",
       "  </tbody>\n",
       "</table>\n",
       "<p>24351 rows × 7 columns</p>\n",
       "</div>"
      ],
      "text/plain": [
       "                     date     open     high      low    close      volume  \\\n",
       "0     2022-01-01 00:00:00  46218.3  46742.0  46216.2  46654.3  505.065361   \n",
       "1     2022-01-01 01:00:00  46655.1  46943.0  46578.5  46780.1  394.933309   \n",
       "2     2022-01-01 02:00:00  46780.1  46927.3  46725.5  46803.7  237.989272   \n",
       "3     2022-01-01 03:00:00  46809.8  46902.7  46760.1  46809.1  214.709120   \n",
       "4     2022-01-01 04:00:00  46807.7  46879.0  46631.8  46708.5  311.885979   \n",
       "...                   ...      ...      ...      ...      ...         ...   \n",
       "24346 2024-10-01 07:00:00  64030.9  64128.0  63918.2  64044.9  296.612599   \n",
       "24347 2024-10-01 08:00:00  64045.0  64097.9  63824.1  63946.6  259.512373   \n",
       "24348 2024-10-01 09:00:00  63946.5  64102.2  63852.3  63863.9  168.794288   \n",
       "24349 2024-10-01 10:00:00  63864.0  63913.8  63722.0  63899.9  110.108207   \n",
       "24350 2024-10-01 10:00:00  63864.0  63913.8  63722.0  63899.9  110.108207   \n",
       "\n",
       "       close_pct_change  \n",
       "0              0.000000  \n",
       "1              0.269643  \n",
       "2              0.050449  \n",
       "3              0.011538  \n",
       "4             -0.214915  \n",
       "...                 ...  \n",
       "24346          0.022489  \n",
       "24347         -0.153486  \n",
       "24348         -0.129327  \n",
       "24349          0.056370  \n",
       "24350          0.000000  \n",
       "\n",
       "[24351 rows x 7 columns]"
      ]
     },
     "execution_count": 9,
     "metadata": {},
     "output_type": "execute_result"
    }
   ],
   "source": [
    "ohlcv = pd.DataFrame(ohlcv, columns=[\"date\", \"open\", \"high\", \"low\", \"close\", \"volume\"])\n",
    "ohlcv[\"date\"] = ohlcv[\"date\"].apply(lambda x: datetime.datetime.fromtimestamp(x / 1000))\n",
    "ohlcv[\"close_pct_change\"] = ohlcv[\"close\"].pct_change() * 100\n",
    "ohlcv['close_pct_change'] = ohlcv['close_pct_change'].fillna(0)\n",
    "ohlcv.reset_index(drop=True)"
   ]
  },
  {
   "cell_type": "code",
   "execution_count": 10,
   "id": "ff6ec0c4-eb2e-4479-a34f-266f0e3a5f3b",
   "metadata": {},
   "outputs": [
    {
     "data": {
      "text/html": [
       "<div>\n",
       "<style scoped>\n",
       "    .dataframe tbody tr th:only-of-type {\n",
       "        vertical-align: middle;\n",
       "    }\n",
       "\n",
       "    .dataframe tbody tr th {\n",
       "        vertical-align: top;\n",
       "    }\n",
       "\n",
       "    .dataframe thead th {\n",
       "        text-align: right;\n",
       "    }\n",
       "</style>\n",
       "<table border=\"1\" class=\"dataframe\">\n",
       "  <thead>\n",
       "    <tr style=\"text-align: right;\">\n",
       "      <th></th>\n",
       "      <th>date</th>\n",
       "      <th>open</th>\n",
       "      <th>high</th>\n",
       "      <th>low</th>\n",
       "      <th>close</th>\n",
       "      <th>volume</th>\n",
       "      <th>close_pct_change</th>\n",
       "    </tr>\n",
       "  </thead>\n",
       "  <tbody>\n",
       "    <tr>\n",
       "      <th>0</th>\n",
       "      <td>2022-01-01 00:00:00</td>\n",
       "      <td>46218.3</td>\n",
       "      <td>46742.0</td>\n",
       "      <td>46216.2</td>\n",
       "      <td>46654.3</td>\n",
       "      <td>505.065361</td>\n",
       "      <td>0.000000</td>\n",
       "    </tr>\n",
       "    <tr>\n",
       "      <th>1</th>\n",
       "      <td>2022-01-01 01:00:00</td>\n",
       "      <td>46655.1</td>\n",
       "      <td>46943.0</td>\n",
       "      <td>46578.5</td>\n",
       "      <td>46780.1</td>\n",
       "      <td>394.933309</td>\n",
       "      <td>0.269643</td>\n",
       "    </tr>\n",
       "    <tr>\n",
       "      <th>2</th>\n",
       "      <td>2022-01-01 02:00:00</td>\n",
       "      <td>46780.1</td>\n",
       "      <td>46927.3</td>\n",
       "      <td>46725.5</td>\n",
       "      <td>46803.7</td>\n",
       "      <td>237.989272</td>\n",
       "      <td>0.050449</td>\n",
       "    </tr>\n",
       "    <tr>\n",
       "      <th>3</th>\n",
       "      <td>2022-01-01 03:00:00</td>\n",
       "      <td>46809.8</td>\n",
       "      <td>46902.7</td>\n",
       "      <td>46760.1</td>\n",
       "      <td>46809.1</td>\n",
       "      <td>214.709120</td>\n",
       "      <td>0.011538</td>\n",
       "    </tr>\n",
       "    <tr>\n",
       "      <th>4</th>\n",
       "      <td>2022-01-01 04:00:00</td>\n",
       "      <td>46807.7</td>\n",
       "      <td>46879.0</td>\n",
       "      <td>46631.8</td>\n",
       "      <td>46708.5</td>\n",
       "      <td>311.885979</td>\n",
       "      <td>-0.214915</td>\n",
       "    </tr>\n",
       "    <tr>\n",
       "      <th>...</th>\n",
       "      <td>...</td>\n",
       "      <td>...</td>\n",
       "      <td>...</td>\n",
       "      <td>...</td>\n",
       "      <td>...</td>\n",
       "      <td>...</td>\n",
       "      <td>...</td>\n",
       "    </tr>\n",
       "    <tr>\n",
       "      <th>24346</th>\n",
       "      <td>2024-10-01 07:00:00</td>\n",
       "      <td>64030.9</td>\n",
       "      <td>64128.0</td>\n",
       "      <td>63918.2</td>\n",
       "      <td>64044.9</td>\n",
       "      <td>296.612599</td>\n",
       "      <td>0.022489</td>\n",
       "    </tr>\n",
       "    <tr>\n",
       "      <th>24347</th>\n",
       "      <td>2024-10-01 08:00:00</td>\n",
       "      <td>64045.0</td>\n",
       "      <td>64097.9</td>\n",
       "      <td>63824.1</td>\n",
       "      <td>63946.6</td>\n",
       "      <td>259.512373</td>\n",
       "      <td>-0.153486</td>\n",
       "    </tr>\n",
       "    <tr>\n",
       "      <th>24348</th>\n",
       "      <td>2024-10-01 09:00:00</td>\n",
       "      <td>63946.5</td>\n",
       "      <td>64102.2</td>\n",
       "      <td>63852.3</td>\n",
       "      <td>63863.9</td>\n",
       "      <td>168.794288</td>\n",
       "      <td>-0.129327</td>\n",
       "    </tr>\n",
       "    <tr>\n",
       "      <th>24349</th>\n",
       "      <td>2024-10-01 10:00:00</td>\n",
       "      <td>63864.0</td>\n",
       "      <td>63913.8</td>\n",
       "      <td>63722.0</td>\n",
       "      <td>63899.9</td>\n",
       "      <td>110.108207</td>\n",
       "      <td>0.056370</td>\n",
       "    </tr>\n",
       "    <tr>\n",
       "      <th>24350</th>\n",
       "      <td>2024-10-01 10:00:00</td>\n",
       "      <td>63864.0</td>\n",
       "      <td>63913.8</td>\n",
       "      <td>63722.0</td>\n",
       "      <td>63899.9</td>\n",
       "      <td>110.108207</td>\n",
       "      <td>0.000000</td>\n",
       "    </tr>\n",
       "  </tbody>\n",
       "</table>\n",
       "<p>24351 rows × 7 columns</p>\n",
       "</div>"
      ],
      "text/plain": [
       "                     date     open     high      low    close      volume  \\\n",
       "0     2022-01-01 00:00:00  46218.3  46742.0  46216.2  46654.3  505.065361   \n",
       "1     2022-01-01 01:00:00  46655.1  46943.0  46578.5  46780.1  394.933309   \n",
       "2     2022-01-01 02:00:00  46780.1  46927.3  46725.5  46803.7  237.989272   \n",
       "3     2022-01-01 03:00:00  46809.8  46902.7  46760.1  46809.1  214.709120   \n",
       "4     2022-01-01 04:00:00  46807.7  46879.0  46631.8  46708.5  311.885979   \n",
       "...                   ...      ...      ...      ...      ...         ...   \n",
       "24346 2024-10-01 07:00:00  64030.9  64128.0  63918.2  64044.9  296.612599   \n",
       "24347 2024-10-01 08:00:00  64045.0  64097.9  63824.1  63946.6  259.512373   \n",
       "24348 2024-10-01 09:00:00  63946.5  64102.2  63852.3  63863.9  168.794288   \n",
       "24349 2024-10-01 10:00:00  63864.0  63913.8  63722.0  63899.9  110.108207   \n",
       "24350 2024-10-01 10:00:00  63864.0  63913.8  63722.0  63899.9  110.108207   \n",
       "\n",
       "       close_pct_change  \n",
       "0              0.000000  \n",
       "1              0.269643  \n",
       "2              0.050449  \n",
       "3              0.011538  \n",
       "4             -0.214915  \n",
       "...                 ...  \n",
       "24346          0.022489  \n",
       "24347         -0.153486  \n",
       "24348         -0.129327  \n",
       "24349          0.056370  \n",
       "24350          0.000000  \n",
       "\n",
       "[24351 rows x 7 columns]"
      ]
     },
     "execution_count": 10,
     "metadata": {},
     "output_type": "execute_result"
    }
   ],
   "source": [
    "ohlcv"
   ]
  },
  {
   "cell_type": "code",
   "execution_count": 11,
   "id": "09f265be-69cf-4dd6-b8a3-9269b76c4378",
   "metadata": {},
   "outputs": [
    {
     "name": "stdout",
     "output_type": "stream",
     "text": [
      "<class 'pandas.core.frame.DataFrame'>\n",
      "RangeIndex: 24351 entries, 0 to 24350\n",
      "Data columns (total 7 columns):\n",
      " #   Column            Non-Null Count  Dtype         \n",
      "---  ------            --------------  -----         \n",
      " 0   date              24351 non-null  datetime64[ns]\n",
      " 1   open              24351 non-null  float64       \n",
      " 2   high              24351 non-null  float64       \n",
      " 3   low               24351 non-null  float64       \n",
      " 4   close             24351 non-null  float64       \n",
      " 5   volume            24351 non-null  float64       \n",
      " 6   close_pct_change  24351 non-null  float64       \n",
      "dtypes: datetime64[ns](1), float64(6)\n",
      "memory usage: 1.3 MB\n"
     ]
    }
   ],
   "source": [
    "ohlcv.info()"
   ]
  },
  {
   "cell_type": "code",
   "execution_count": 12,
   "id": "97181391-1045-4578-9001-f05d8289a229",
   "metadata": {},
   "outputs": [
    {
     "data": {
      "text/plain": [
       "(24351, 7)"
      ]
     },
     "execution_count": 12,
     "metadata": {},
     "output_type": "execute_result"
    }
   ],
   "source": [
    "ohlcv.shape"
   ]
  },
  {
   "cell_type": "code",
   "execution_count": 13,
   "id": "8bd740a0-f498-44ec-a1d8-d5cf7eeadba7",
   "metadata": {},
   "outputs": [
    {
     "data": {
      "text/plain": [
       "date                24107\n",
       "open                22916\n",
       "high                22343\n",
       "low                 22333\n",
       "close               22881\n",
       "volume              24098\n",
       "close_pct_change    24085\n",
       "dtype: int64"
      ]
     },
     "execution_count": 13,
     "metadata": {},
     "output_type": "execute_result"
    }
   ],
   "source": [
    "ohlcv.nunique()"
   ]
  },
  {
   "cell_type": "code",
   "execution_count": 14,
   "id": "dec0dfe7-c4c0-4a64-8265-db581fec719a",
   "metadata": {},
   "outputs": [
    {
     "data": {
      "text/plain": [
       "0        1640995200000000000\n",
       "1        1640998800000000000\n",
       "2        1641002400000000000\n",
       "3        1641006000000000000\n",
       "4        1641009600000000000\n",
       "                ...         \n",
       "24346    1727766000000000000\n",
       "24347    1727769600000000000\n",
       "24348    1727773200000000000\n",
       "24349    1727776800000000000\n",
       "24350    1727776800000000000\n",
       "Name: date, Length: 24351, dtype: int64"
      ]
     },
     "execution_count": 14,
     "metadata": {},
     "output_type": "execute_result"
    }
   ],
   "source": [
    "ohlcv[\"date\"].astype(int)"
   ]
  },
  {
   "cell_type": "markdown",
   "id": "38bfe299-3d1b-4c90-83dc-d9c6cec7db53",
   "metadata": {},
   "source": [
    "В данных могут появится дубликаты, от них надо избавлятся"
   ]
  },
  {
   "cell_type": "code",
   "execution_count": 15,
   "id": "762f5eea-b274-4fd8-9cee-7be6a775e8cf",
   "metadata": {},
   "outputs": [],
   "source": [
    "ohlcv = ohlcv.drop_duplicates(subset=['date'], keep='last')"
   ]
  },
  {
   "cell_type": "code",
   "execution_count": 16,
   "id": "be4569d8-3d22-466b-b9a0-8f650d5aeeb5",
   "metadata": {},
   "outputs": [
    {
     "data": {
      "text/html": [
       "<div>\n",
       "<style scoped>\n",
       "    .dataframe tbody tr th:only-of-type {\n",
       "        vertical-align: middle;\n",
       "    }\n",
       "\n",
       "    .dataframe tbody tr th {\n",
       "        vertical-align: top;\n",
       "    }\n",
       "\n",
       "    .dataframe thead th {\n",
       "        text-align: right;\n",
       "    }\n",
       "</style>\n",
       "<table border=\"1\" class=\"dataframe\">\n",
       "  <thead>\n",
       "    <tr style=\"text-align: right;\">\n",
       "      <th></th>\n",
       "      <th>date</th>\n",
       "      <th>open</th>\n",
       "      <th>high</th>\n",
       "      <th>low</th>\n",
       "      <th>close</th>\n",
       "      <th>volume</th>\n",
       "      <th>close_pct_change</th>\n",
       "    </tr>\n",
       "  </thead>\n",
       "  <tbody>\n",
       "    <tr>\n",
       "      <th>0</th>\n",
       "      <td>2022-01-01 00:00:00</td>\n",
       "      <td>46218.3</td>\n",
       "      <td>46742.0</td>\n",
       "      <td>46216.2</td>\n",
       "      <td>46654.3</td>\n",
       "      <td>505.065361</td>\n",
       "      <td>0.000000</td>\n",
       "    </tr>\n",
       "    <tr>\n",
       "      <th>1</th>\n",
       "      <td>2022-01-01 01:00:00</td>\n",
       "      <td>46655.1</td>\n",
       "      <td>46943.0</td>\n",
       "      <td>46578.5</td>\n",
       "      <td>46780.1</td>\n",
       "      <td>394.933309</td>\n",
       "      <td>0.269643</td>\n",
       "    </tr>\n",
       "    <tr>\n",
       "      <th>2</th>\n",
       "      <td>2022-01-01 02:00:00</td>\n",
       "      <td>46780.1</td>\n",
       "      <td>46927.3</td>\n",
       "      <td>46725.5</td>\n",
       "      <td>46803.7</td>\n",
       "      <td>237.989272</td>\n",
       "      <td>0.050449</td>\n",
       "    </tr>\n",
       "    <tr>\n",
       "      <th>3</th>\n",
       "      <td>2022-01-01 03:00:00</td>\n",
       "      <td>46809.8</td>\n",
       "      <td>46902.7</td>\n",
       "      <td>46760.1</td>\n",
       "      <td>46809.1</td>\n",
       "      <td>214.709120</td>\n",
       "      <td>0.011538</td>\n",
       "    </tr>\n",
       "    <tr>\n",
       "      <th>4</th>\n",
       "      <td>2022-01-01 04:00:00</td>\n",
       "      <td>46807.7</td>\n",
       "      <td>46879.0</td>\n",
       "      <td>46631.8</td>\n",
       "      <td>46708.5</td>\n",
       "      <td>311.885979</td>\n",
       "      <td>-0.214915</td>\n",
       "    </tr>\n",
       "    <tr>\n",
       "      <th>...</th>\n",
       "      <td>...</td>\n",
       "      <td>...</td>\n",
       "      <td>...</td>\n",
       "      <td>...</td>\n",
       "      <td>...</td>\n",
       "      <td>...</td>\n",
       "      <td>...</td>\n",
       "    </tr>\n",
       "    <tr>\n",
       "      <th>24345</th>\n",
       "      <td>2024-10-01 06:00:00</td>\n",
       "      <td>63748.0</td>\n",
       "      <td>64097.9</td>\n",
       "      <td>63744.0</td>\n",
       "      <td>64030.5</td>\n",
       "      <td>240.639318</td>\n",
       "      <td>0.443309</td>\n",
       "    </tr>\n",
       "    <tr>\n",
       "      <th>24346</th>\n",
       "      <td>2024-10-01 07:00:00</td>\n",
       "      <td>64030.9</td>\n",
       "      <td>64128.0</td>\n",
       "      <td>63918.2</td>\n",
       "      <td>64044.9</td>\n",
       "      <td>296.612599</td>\n",
       "      <td>0.022489</td>\n",
       "    </tr>\n",
       "    <tr>\n",
       "      <th>24347</th>\n",
       "      <td>2024-10-01 08:00:00</td>\n",
       "      <td>64045.0</td>\n",
       "      <td>64097.9</td>\n",
       "      <td>63824.1</td>\n",
       "      <td>63946.6</td>\n",
       "      <td>259.512373</td>\n",
       "      <td>-0.153486</td>\n",
       "    </tr>\n",
       "    <tr>\n",
       "      <th>24348</th>\n",
       "      <td>2024-10-01 09:00:00</td>\n",
       "      <td>63946.5</td>\n",
       "      <td>64102.2</td>\n",
       "      <td>63852.3</td>\n",
       "      <td>63863.9</td>\n",
       "      <td>168.794288</td>\n",
       "      <td>-0.129327</td>\n",
       "    </tr>\n",
       "    <tr>\n",
       "      <th>24350</th>\n",
       "      <td>2024-10-01 10:00:00</td>\n",
       "      <td>63864.0</td>\n",
       "      <td>63913.8</td>\n",
       "      <td>63722.0</td>\n",
       "      <td>63899.9</td>\n",
       "      <td>110.108207</td>\n",
       "      <td>0.000000</td>\n",
       "    </tr>\n",
       "  </tbody>\n",
       "</table>\n",
       "<p>24107 rows × 7 columns</p>\n",
       "</div>"
      ],
      "text/plain": [
       "                     date     open     high      low    close      volume  \\\n",
       "0     2022-01-01 00:00:00  46218.3  46742.0  46216.2  46654.3  505.065361   \n",
       "1     2022-01-01 01:00:00  46655.1  46943.0  46578.5  46780.1  394.933309   \n",
       "2     2022-01-01 02:00:00  46780.1  46927.3  46725.5  46803.7  237.989272   \n",
       "3     2022-01-01 03:00:00  46809.8  46902.7  46760.1  46809.1  214.709120   \n",
       "4     2022-01-01 04:00:00  46807.7  46879.0  46631.8  46708.5  311.885979   \n",
       "...                   ...      ...      ...      ...      ...         ...   \n",
       "24345 2024-10-01 06:00:00  63748.0  64097.9  63744.0  64030.5  240.639318   \n",
       "24346 2024-10-01 07:00:00  64030.9  64128.0  63918.2  64044.9  296.612599   \n",
       "24347 2024-10-01 08:00:00  64045.0  64097.9  63824.1  63946.6  259.512373   \n",
       "24348 2024-10-01 09:00:00  63946.5  64102.2  63852.3  63863.9  168.794288   \n",
       "24350 2024-10-01 10:00:00  63864.0  63913.8  63722.0  63899.9  110.108207   \n",
       "\n",
       "       close_pct_change  \n",
       "0              0.000000  \n",
       "1              0.269643  \n",
       "2              0.050449  \n",
       "3              0.011538  \n",
       "4             -0.214915  \n",
       "...                 ...  \n",
       "24345          0.443309  \n",
       "24346          0.022489  \n",
       "24347         -0.153486  \n",
       "24348         -0.129327  \n",
       "24350          0.000000  \n",
       "\n",
       "[24107 rows x 7 columns]"
      ]
     },
     "execution_count": 16,
     "metadata": {},
     "output_type": "execute_result"
    }
   ],
   "source": [
    "ohlcv"
   ]
  },
  {
   "cell_type": "code",
   "execution_count": 17,
   "id": "eae7fd0e-4731-47d0-a465-94398ec56a4a",
   "metadata": {},
   "outputs": [],
   "source": [
    "def create_traind_df(dots_count=1000):\n",
    "    train_df = pd.DataFrame(\n",
    "        columns = [\"ds\", \"y\", \"unique_id\"]   \n",
    "    )\n",
    "    \n",
    "    train_df[\"ds\"] = ohlcv[\"date\"].iloc[-(dots_count)-24:-24]\n",
    "    train_df[\"y\"] = ohlcv[\"close_pct_change\"].iloc[-(dots_count)-24:-24]\n",
    "    train_df[\"unique_id\"] = 1\n",
    "    train_df = train_df.reset_index(drop=True)\n",
    "\n",
    "    return train_df"
   ]
  },
  {
   "cell_type": "code",
   "execution_count": 18,
   "id": "47a92d17-dab4-4c05-ade7-6ed3af383c3e",
   "metadata": {},
   "outputs": [],
   "source": [
    "train_df_20k = create_traind_df(20000)\n",
    "train_df_15k = create_traind_df(15000)\n",
    "train_df_10k = create_traind_df(10000)\n",
    "train_df_7k = create_traind_df(7000)\n",
    "train_df_6k = create_traind_df(6000)\n",
    "train_df_5k = create_traind_df(5000)\n",
    "train_df_2k = create_traind_df(2000)\n",
    "train_df_1k = create_traind_df(1000)"
   ]
  },
  {
   "cell_type": "code",
   "execution_count": 19,
   "id": "8999e15c-e994-44d9-b1a0-7cb2249951fd",
   "metadata": {},
   "outputs": [],
   "source": [
    "test_df = pd.DataFrame(\n",
    "    columns = [\"ds\", \"y\", \"unique_id\"]   \n",
    ")\n",
    "\n",
    "test_df[\"ds\"] = ohlcv[\"date\"].iloc[-48:]\n",
    "test_df[\"y\"] = ohlcv[\"close_pct_change\"].iloc[-48:]\n",
    "test_df[\"unique_id\"] = 1\n",
    "test_df = test_df.reset_index(drop=True)"
   ]
  },
  {
   "cell_type": "code",
   "execution_count": 20,
   "id": "7a3a0b5e-e042-428c-b535-830186a6218e",
   "metadata": {},
   "outputs": [
    {
     "data": {
      "text/plain": [
       "(48, 3)"
      ]
     },
     "execution_count": 20,
     "metadata": {},
     "output_type": "execute_result"
    }
   ],
   "source": [
    "test_df.shape"
   ]
  },
  {
   "cell_type": "code",
   "execution_count": 21,
   "id": "dc583de3-882a-4670-ab5c-e04070024efa",
   "metadata": {},
   "outputs": [
    {
     "data": {
      "text/html": [
       "<div>\n",
       "<style scoped>\n",
       "    .dataframe tbody tr th:only-of-type {\n",
       "        vertical-align: middle;\n",
       "    }\n",
       "\n",
       "    .dataframe tbody tr th {\n",
       "        vertical-align: top;\n",
       "    }\n",
       "\n",
       "    .dataframe thead th {\n",
       "        text-align: right;\n",
       "    }\n",
       "</style>\n",
       "<table border=\"1\" class=\"dataframe\">\n",
       "  <thead>\n",
       "    <tr style=\"text-align: right;\">\n",
       "      <th></th>\n",
       "      <th>ds</th>\n",
       "      <th>y</th>\n",
       "      <th>unique_id</th>\n",
       "    </tr>\n",
       "  </thead>\n",
       "  <tbody>\n",
       "    <tr>\n",
       "      <th>995</th>\n",
       "      <td>2024-09-30 06:00:00</td>\n",
       "      <td>-0.284847</td>\n",
       "      <td>1</td>\n",
       "    </tr>\n",
       "    <tr>\n",
       "      <th>996</th>\n",
       "      <td>2024-09-30 07:00:00</td>\n",
       "      <td>0.344876</td>\n",
       "      <td>1</td>\n",
       "    </tr>\n",
       "    <tr>\n",
       "      <th>997</th>\n",
       "      <td>2024-09-30 08:00:00</td>\n",
       "      <td>-0.394028</td>\n",
       "      <td>1</td>\n",
       "    </tr>\n",
       "    <tr>\n",
       "      <th>998</th>\n",
       "      <td>2024-09-30 09:00:00</td>\n",
       "      <td>-1.193447</td>\n",
       "      <td>1</td>\n",
       "    </tr>\n",
       "    <tr>\n",
       "      <th>999</th>\n",
       "      <td>2024-09-30 10:00:00</td>\n",
       "      <td>0.150924</td>\n",
       "      <td>1</td>\n",
       "    </tr>\n",
       "  </tbody>\n",
       "</table>\n",
       "</div>"
      ],
      "text/plain": [
       "                     ds         y  unique_id\n",
       "995 2024-09-30 06:00:00 -0.284847          1\n",
       "996 2024-09-30 07:00:00  0.344876          1\n",
       "997 2024-09-30 08:00:00 -0.394028          1\n",
       "998 2024-09-30 09:00:00 -1.193447          1\n",
       "999 2024-09-30 10:00:00  0.150924          1"
      ]
     },
     "execution_count": 21,
     "metadata": {},
     "output_type": "execute_result"
    }
   ],
   "source": [
    "train_df_1k.tail()"
   ]
  },
  {
   "cell_type": "code",
   "execution_count": 22,
   "id": "78855004-e0c6-4f57-a294-dba99e82fcac",
   "metadata": {},
   "outputs": [
    {
     "data": {
      "text/html": [
       "<div>\n",
       "<style scoped>\n",
       "    .dataframe tbody tr th:only-of-type {\n",
       "        vertical-align: middle;\n",
       "    }\n",
       "\n",
       "    .dataframe tbody tr th {\n",
       "        vertical-align: top;\n",
       "    }\n",
       "\n",
       "    .dataframe thead th {\n",
       "        text-align: right;\n",
       "    }\n",
       "</style>\n",
       "<table border=\"1\" class=\"dataframe\">\n",
       "  <thead>\n",
       "    <tr style=\"text-align: right;\">\n",
       "      <th></th>\n",
       "      <th>ds</th>\n",
       "      <th>y</th>\n",
       "      <th>unique_id</th>\n",
       "    </tr>\n",
       "  </thead>\n",
       "  <tbody>\n",
       "    <tr>\n",
       "      <th>1995</th>\n",
       "      <td>2024-09-30 06:00:00</td>\n",
       "      <td>-0.284847</td>\n",
       "      <td>1</td>\n",
       "    </tr>\n",
       "    <tr>\n",
       "      <th>1996</th>\n",
       "      <td>2024-09-30 07:00:00</td>\n",
       "      <td>0.344876</td>\n",
       "      <td>1</td>\n",
       "    </tr>\n",
       "    <tr>\n",
       "      <th>1997</th>\n",
       "      <td>2024-09-30 08:00:00</td>\n",
       "      <td>-0.394028</td>\n",
       "      <td>1</td>\n",
       "    </tr>\n",
       "    <tr>\n",
       "      <th>1998</th>\n",
       "      <td>2024-09-30 09:00:00</td>\n",
       "      <td>-1.193447</td>\n",
       "      <td>1</td>\n",
       "    </tr>\n",
       "    <tr>\n",
       "      <th>1999</th>\n",
       "      <td>2024-09-30 10:00:00</td>\n",
       "      <td>0.150924</td>\n",
       "      <td>1</td>\n",
       "    </tr>\n",
       "  </tbody>\n",
       "</table>\n",
       "</div>"
      ],
      "text/plain": [
       "                      ds         y  unique_id\n",
       "1995 2024-09-30 06:00:00 -0.284847          1\n",
       "1996 2024-09-30 07:00:00  0.344876          1\n",
       "1997 2024-09-30 08:00:00 -0.394028          1\n",
       "1998 2024-09-30 09:00:00 -1.193447          1\n",
       "1999 2024-09-30 10:00:00  0.150924          1"
      ]
     },
     "execution_count": 22,
     "metadata": {},
     "output_type": "execute_result"
    }
   ],
   "source": [
    "train_df_2k.tail()"
   ]
  },
  {
   "cell_type": "code",
   "execution_count": 23,
   "id": "dbd08b30-34bd-4a24-a289-55926b3e4982",
   "metadata": {},
   "outputs": [
    {
     "data": {
      "text/html": [
       "<div>\n",
       "<style scoped>\n",
       "    .dataframe tbody tr th:only-of-type {\n",
       "        vertical-align: middle;\n",
       "    }\n",
       "\n",
       "    .dataframe tbody tr th {\n",
       "        vertical-align: top;\n",
       "    }\n",
       "\n",
       "    .dataframe thead th {\n",
       "        text-align: right;\n",
       "    }\n",
       "</style>\n",
       "<table border=\"1\" class=\"dataframe\">\n",
       "  <thead>\n",
       "    <tr style=\"text-align: right;\">\n",
       "      <th></th>\n",
       "      <th>ds</th>\n",
       "      <th>y</th>\n",
       "      <th>unique_id</th>\n",
       "    </tr>\n",
       "  </thead>\n",
       "  <tbody>\n",
       "    <tr>\n",
       "      <th>0</th>\n",
       "      <td>2024-09-29 11:00:00</td>\n",
       "      <td>0.188332</td>\n",
       "      <td>1</td>\n",
       "    </tr>\n",
       "    <tr>\n",
       "      <th>1</th>\n",
       "      <td>2024-09-29 12:00:00</td>\n",
       "      <td>-0.110808</td>\n",
       "      <td>1</td>\n",
       "    </tr>\n",
       "    <tr>\n",
       "      <th>2</th>\n",
       "      <td>2024-09-29 13:00:00</td>\n",
       "      <td>0.289061</td>\n",
       "      <td>1</td>\n",
       "    </tr>\n",
       "    <tr>\n",
       "      <th>3</th>\n",
       "      <td>2024-09-29 14:00:00</td>\n",
       "      <td>-0.188556</td>\n",
       "      <td>1</td>\n",
       "    </tr>\n",
       "    <tr>\n",
       "      <th>4</th>\n",
       "      <td>2024-09-29 15:00:00</td>\n",
       "      <td>0.097881</td>\n",
       "      <td>1</td>\n",
       "    </tr>\n",
       "  </tbody>\n",
       "</table>\n",
       "</div>"
      ],
      "text/plain": [
       "                   ds         y  unique_id\n",
       "0 2024-09-29 11:00:00  0.188332          1\n",
       "1 2024-09-29 12:00:00 -0.110808          1\n",
       "2 2024-09-29 13:00:00  0.289061          1\n",
       "3 2024-09-29 14:00:00 -0.188556          1\n",
       "4 2024-09-29 15:00:00  0.097881          1"
      ]
     },
     "execution_count": 23,
     "metadata": {},
     "output_type": "execute_result"
    }
   ],
   "source": [
    "test_df.head()"
   ]
  },
  {
   "cell_type": "code",
   "execution_count": 24,
   "id": "e107060d-02de-4d43-a14e-0b9a0f95f11d",
   "metadata": {},
   "outputs": [
    {
     "data": {
      "text/html": [
       "<div>\n",
       "<style scoped>\n",
       "    .dataframe tbody tr th:only-of-type {\n",
       "        vertical-align: middle;\n",
       "    }\n",
       "\n",
       "    .dataframe tbody tr th {\n",
       "        vertical-align: top;\n",
       "    }\n",
       "\n",
       "    .dataframe thead th {\n",
       "        text-align: right;\n",
       "    }\n",
       "</style>\n",
       "<table border=\"1\" class=\"dataframe\">\n",
       "  <thead>\n",
       "    <tr style=\"text-align: right;\">\n",
       "      <th></th>\n",
       "      <th>ds</th>\n",
       "      <th>y</th>\n",
       "      <th>unique_id</th>\n",
       "    </tr>\n",
       "  </thead>\n",
       "  <tbody>\n",
       "    <tr>\n",
       "      <th>43</th>\n",
       "      <td>2024-10-01 06:00:00</td>\n",
       "      <td>0.443309</td>\n",
       "      <td>1</td>\n",
       "    </tr>\n",
       "    <tr>\n",
       "      <th>44</th>\n",
       "      <td>2024-10-01 07:00:00</td>\n",
       "      <td>0.022489</td>\n",
       "      <td>1</td>\n",
       "    </tr>\n",
       "    <tr>\n",
       "      <th>45</th>\n",
       "      <td>2024-10-01 08:00:00</td>\n",
       "      <td>-0.153486</td>\n",
       "      <td>1</td>\n",
       "    </tr>\n",
       "    <tr>\n",
       "      <th>46</th>\n",
       "      <td>2024-10-01 09:00:00</td>\n",
       "      <td>-0.129327</td>\n",
       "      <td>1</td>\n",
       "    </tr>\n",
       "    <tr>\n",
       "      <th>47</th>\n",
       "      <td>2024-10-01 10:00:00</td>\n",
       "      <td>0.000000</td>\n",
       "      <td>1</td>\n",
       "    </tr>\n",
       "  </tbody>\n",
       "</table>\n",
       "</div>"
      ],
      "text/plain": [
       "                    ds         y  unique_id\n",
       "43 2024-10-01 06:00:00  0.443309          1\n",
       "44 2024-10-01 07:00:00  0.022489          1\n",
       "45 2024-10-01 08:00:00 -0.153486          1\n",
       "46 2024-10-01 09:00:00 -0.129327          1\n",
       "47 2024-10-01 10:00:00  0.000000          1"
      ]
     },
     "execution_count": 24,
     "metadata": {},
     "output_type": "execute_result"
    }
   ],
   "source": [
    "test_df[24:].tail()"
   ]
  },
  {
   "cell_type": "markdown",
   "id": "f3c8b248-c4b0-46d9-a03b-3c1a86607369",
   "metadata": {},
   "source": [
    "# Оптимизация гиперпараметров"
   ]
  },
  {
   "cell_type": "code",
   "execution_count": 34,
   "id": "f901a5c8-867f-4383-bade-373de58c2048",
   "metadata": {},
   "outputs": [],
   "source": [
    "def objective(trial):\n",
    "    try:\n",
    "        data_set_size = trial.suggest_categorical(\"data_set_size\", ['1k', '2k', '5k', '6k', '7k', '10k', '15k', '20k'])\n",
    "        \n",
    "        input_size = trial.suggest_int(\"input_size\", 100, 1000)\n",
    "        max_steps = trial.suggest_int(\"max_steps\", 100, 2000)\n",
    "        #max_steps = 1\n",
    "        batch_size = trial.suggest_int(\"batch_size\", 4, 256)\n",
    "        windows_batch_size = trial.suggest_int(\"windows_batch_size\", 256, 512)\n",
    "        #windows_batch_size = 512\n",
    "        learning_rate = trial.suggest_float(\"learning_rate\", 0.0001, 0.02)\n",
    "\n",
    "        spline_order = trial.suggest_int(\"spline_order\", 2, 7)\n",
    "        scale_noise = trial.suggest_float(\"scale_noise\", 0.01, 0.5)\n",
    "        #scale_noise = 0.1\n",
    "        scale_base = trial.suggest_float(\"scale_base\", 0.5, 2)\n",
    "        #scale_base = 1.0\n",
    "        scale_spline = trial.suggest_float(\"scale_spline\", 0.5, 2)\n",
    "        #scale_spline = 1.0\n",
    "        grid_eps = trial.suggest_float(\"grid_eps\", 0.01, 0.1)\n",
    "        #grid_eps = 0.02\n",
    "        n_hidden_layers = trial.suggest_int(\"n_hidden_layers\", 1, 3)\n",
    "        hidden_size = trial.suggest_int(\"hidden_size\", 128, 1024)\n",
    "\n",
    "        \n",
    "        models = [KAN(h=48, loss=MQLoss(level=[99, 95, 90, 75, 50]), random_seed=1,\n",
    "                      input_size=input_size, max_steps=max_steps, \n",
    "                      batch_size=batch_size, windows_batch_size=windows_batch_size,\n",
    "                      learning_rate=learning_rate, spline_order=spline_order,\n",
    "                      scale_noise=scale_noise, scale_base=scale_base,\n",
    "                      scale_spline=scale_spline, grid_eps=grid_eps,\n",
    "                      n_hidden_layers=n_hidden_layers, hidden_size=hidden_size)]\n",
    "        print(f\"models: {models}\")\n",
    "\n",
    "        if data_set_size == \"1k\":\n",
    "            train_df = train_df_1k\n",
    "        elif data_set_size == \"2k\":\n",
    "            train_df = train_df_2k\n",
    "        elif data_set_size == \"5k\":\n",
    "            train_df = train_df_5k\n",
    "        elif data_set_size == \"6k\":\n",
    "            train_df = train_df_6k\n",
    "        elif data_set_size == \"7k\":\n",
    "            train_df = train_df_7k\n",
    "        elif data_set_size == \"10k\":\n",
    "            train_df = train_df_10k\n",
    "        elif data_set_size == \"15k\":\n",
    "            train_df = train_df_15k\n",
    "        elif data_set_size == \"20k\":\n",
    "            train_df = train_df_20k\n",
    "        \n",
    "        run_name = f'KAN_{str(datetime.datetime.now())}'\n",
    "        with mlflow.start_run(run_name=run_name) as run:\n",
    "            # Лучшие параметры полученные в исследовании\n",
    "            params = {\n",
    "                \"data_set_size\": data_set_size,\n",
    "                \"h\": 48,\n",
    "                \"loss\": \"MQLoss(level=[99, 95, 90, 75, 50])\",\n",
    "                \"random_seed\": 1,\n",
    "                \"input_size\": input_size, \n",
    "                \"max_steps\": max_steps, \n",
    "                \"batch_size\": batch_size, \n",
    "                \"learning_rate\": learning_rate, \n",
    "                \"windows_batch_size\": windows_batch_size,\n",
    "                \"spline_order\": spline_order,\n",
    "                \"scale_noise\": scale_noise,\n",
    "                \"scale_base\": scale_base,\n",
    "                \"scale_spline\": scale_spline,\n",
    "                \"grid_eps\": grid_eps,\n",
    "                \"n_hidden_layers\": n_hidden_layers,\n",
    "                \"hidden_size\": hidden_size,\n",
    "            }\n",
    "            print(f\"params: {params}\")\n",
    "            # Сохранение тегов\n",
    "            mlflow.set_tag(\"model_name\", \"KAN\")\n",
    "            # Сохранение параметров\n",
    "            mlflow.log_params(params)\n",
    "            \n",
    "            nf = NeuralForecast(models=models, freq='h')\n",
    "            nf.fit(train_df)\n",
    "\n",
    "            # Прогнозирование для test датасета\n",
    "            forecasts = nf.predict()\n",
    "            forecasts = forecasts.reset_index()\n",
    "            current_columns = forecasts.columns.tolist()\n",
    "            current_columns[2] = current_columns[2].split(\"-\")[0]\n",
    "            forecasts.columns = current_columns\n",
    "            \n",
    "            test_df_metrics = test_df.copy()\n",
    "            test_df_metrics[\"KAN\"] = forecasts.iloc[:, 2]\n",
    "            \n",
    "            # Рассчёт метрик\n",
    "            rmse = losses.rmse(test_df_metrics.iloc[:24], models=[\"KAN\"])\n",
    "            mse = losses.mse(test_df_metrics.iloc[:24], models=[\"KAN\"])\n",
    "            mae = losses.mae(test_df_metrics.iloc[:24], models=[\"KAN\"])\n",
    "            smape = losses.smape(test_df_metrics.iloc[:24], models=[\"KAN\"])\n",
    "            \n",
    "            # Сохранение метрик\n",
    "            mlflow.log_metric(\"RMSE\", rmse.iloc[0, 1])\n",
    "            mlflow.log_metric(\"MSE\", mse.iloc[0, 1])\n",
    "            mlflow.log_metric(\"MAE\", mae.iloc[0, 1])\n",
    "            mlflow.log_metric(\"SMAPE\", smape.iloc[0, 1])\n",
    "    \n",
    "            # Сохранение визуализации\n",
    "            fig = plot_series(\n",
    "                pd.concat([train_df.iloc[-300:], test_df[24:]]), \n",
    "                forecasts_df=forecasts,\n",
    "                engine='matplotlib',\n",
    "                level=[99, 95, 90, 75, 50],\n",
    "            )\n",
    "            fig.savefig('forecast.png', bbox_inches='tight')\n",
    "            plt.close()\n",
    "            mlflow.log_artifact(\"forecast.png\", \"forecast\")\n",
    "\n",
    "            return smape.iloc[0, 1]\n",
    "        \n",
    "    except Exception as e:\n",
    "        print(\"ОШИБКА: \", e)\n",
    "        return None\n",
    "        #raise e"
   ]
  },
  {
   "cell_type": "code",
   "execution_count": 35,
   "id": "aa51ac1f-9faf-4451-8075-18b5f1c9fa47",
   "metadata": {},
   "outputs": [
    {
     "name": "stderr",
     "output_type": "stream",
     "text": [
      "[I 2024-10-01 11:18:45,557] A new study created in memory with name: no-name-0210b29e-28b9-4c05-aa71-369c979c3a0d\n"
     ]
    }
   ],
   "source": [
    "study = optuna.create_study(direction=\"minimize\", sampler=optuna.samplers.TPESampler(seed=1))"
   ]
  },
  {
   "cell_type": "code",
   "execution_count": null,
   "id": "2c09a78e-edf3-42ec-a73c-53f3c4978442",
   "metadata": {
    "scrolled": true
   },
   "outputs": [
    {
     "name": "stderr",
     "output_type": "stream",
     "text": [
      "Seed set to 1\n"
     ]
    },
    {
     "name": "stdout",
     "output_type": "stream",
     "text": [
      "models: [KAN]\n",
      "params: {'data_set_size': '2k', 'h': 48, 'loss': 'MQLoss(level=[99, 95, 90, 75, 50])', 'random_seed': 1, 'input_size': 457, 'max_steps': 1124, 'batch_size': 110, 'learning_rate': 0.004168599769657198, 'windows_batch_size': 432, 'spline_order': 7, 'scale_noise': 0.02341992066698382, 'scale_base': 1.5057012652676034, 'scale_spline': 1.1259572035506904, 'grid_eps': 0.06028208456011766, 'n_hidden_layers': 1, 'hidden_size': 305}\n"
     ]
    },
    {
     "name": "stderr",
     "output_type": "stream",
     "text": [
      "GPU available: False, used: False\n",
      "TPU available: False, using: 0 TPU cores\n",
      "HPU available: False, using: 0 HPUs\n",
      "\n",
      "  | Name         | Type          | Params | Mode \n",
      "-------------------------------------------------------\n",
      "0 | loss         | MQLoss        | 11     | train\n",
      "1 | padder_train | ConstantPad1d | 0      | train\n",
      "2 | scaler       | TemporalNorm  | 0      | train\n",
      "3 | layers       | ModuleList    | 4.2 M  | train\n",
      "-------------------------------------------------------\n",
      "4.2 M     Trainable params\n",
      "11        Non-trainable params\n",
      "4.2 M     Total params\n",
      "16.824    Total estimated model params size (MB)\n",
      "8         Modules in train mode\n",
      "0         Modules in eval mode\n"
     ]
    },
    {
     "data": {
      "application/vnd.jupyter.widget-view+json": {
       "model_id": "",
       "version_major": 2,
       "version_minor": 0
      },
      "text/plain": [
       "Sanity Checking: |          | 0/? [00:00<?, ?it/s]"
      ]
     },
     "metadata": {},
     "output_type": "display_data"
    },
    {
     "data": {
      "application/vnd.jupyter.widget-view+json": {
       "model_id": "d16c6c1c448148dd8852fe7459db0ee3",
       "version_major": 2,
       "version_minor": 0
      },
      "text/plain": [
       "Training: |          | 0/? [00:00<?, ?it/s]"
      ]
     },
     "metadata": {},
     "output_type": "display_data"
    },
    {
     "data": {
      "application/vnd.jupyter.widget-view+json": {
       "model_id": "",
       "version_major": 2,
       "version_minor": 0
      },
      "text/plain": [
       "Validation: |          | 0/? [00:00<?, ?it/s]"
      ]
     },
     "metadata": {},
     "output_type": "display_data"
    },
    {
     "data": {
      "application/vnd.jupyter.widget-view+json": {
       "model_id": "",
       "version_major": 2,
       "version_minor": 0
      },
      "text/plain": [
       "Validation: |          | 0/? [00:00<?, ?it/s]"
      ]
     },
     "metadata": {},
     "output_type": "display_data"
    },
    {
     "data": {
      "application/vnd.jupyter.widget-view+json": {
       "model_id": "",
       "version_major": 2,
       "version_minor": 0
      },
      "text/plain": [
       "Validation: |          | 0/? [00:00<?, ?it/s]"
      ]
     },
     "metadata": {},
     "output_type": "display_data"
    },
    {
     "data": {
      "application/vnd.jupyter.widget-view+json": {
       "model_id": "",
       "version_major": 2,
       "version_minor": 0
      },
      "text/plain": [
       "Validation: |          | 0/? [00:00<?, ?it/s]"
      ]
     },
     "metadata": {},
     "output_type": "display_data"
    },
    {
     "data": {
      "application/vnd.jupyter.widget-view+json": {
       "model_id": "",
       "version_major": 2,
       "version_minor": 0
      },
      "text/plain": [
       "Validation: |          | 0/? [00:00<?, ?it/s]"
      ]
     },
     "metadata": {},
     "output_type": "display_data"
    },
    {
     "data": {
      "application/vnd.jupyter.widget-view+json": {
       "model_id": "",
       "version_major": 2,
       "version_minor": 0
      },
      "text/plain": [
       "Validation: |          | 0/? [00:00<?, ?it/s]"
      ]
     },
     "metadata": {},
     "output_type": "display_data"
    },
    {
     "data": {
      "application/vnd.jupyter.widget-view+json": {
       "model_id": "",
       "version_major": 2,
       "version_minor": 0
      },
      "text/plain": [
       "Validation: |          | 0/? [00:00<?, ?it/s]"
      ]
     },
     "metadata": {},
     "output_type": "display_data"
    },
    {
     "data": {
      "application/vnd.jupyter.widget-view+json": {
       "model_id": "",
       "version_major": 2,
       "version_minor": 0
      },
      "text/plain": [
       "Validation: |          | 0/? [00:00<?, ?it/s]"
      ]
     },
     "metadata": {},
     "output_type": "display_data"
    },
    {
     "data": {
      "application/vnd.jupyter.widget-view+json": {
       "model_id": "",
       "version_major": 2,
       "version_minor": 0
      },
      "text/plain": [
       "Validation: |          | 0/? [00:00<?, ?it/s]"
      ]
     },
     "metadata": {},
     "output_type": "display_data"
    },
    {
     "data": {
      "application/vnd.jupyter.widget-view+json": {
       "model_id": "",
       "version_major": 2,
       "version_minor": 0
      },
      "text/plain": [
       "Validation: |          | 0/? [00:00<?, ?it/s]"
      ]
     },
     "metadata": {},
     "output_type": "display_data"
    },
    {
     "data": {
      "application/vnd.jupyter.widget-view+json": {
       "model_id": "",
       "version_major": 2,
       "version_minor": 0
      },
      "text/plain": [
       "Validation: |          | 0/? [00:00<?, ?it/s]"
      ]
     },
     "metadata": {},
     "output_type": "display_data"
    },
    {
     "name": "stderr",
     "output_type": "stream",
     "text": [
      "`Trainer.fit` stopped: `max_steps=1124` reached.\n",
      "GPU available: False, used: False\n",
      "TPU available: False, using: 0 TPU cores\n",
      "HPU available: False, using: 0 HPUs\n"
     ]
    },
    {
     "data": {
      "application/vnd.jupyter.widget-view+json": {
       "model_id": "f2fff9e33e334c46877b3d279f75df84",
       "version_major": 2,
       "version_minor": 0
      },
      "text/plain": [
       "Predicting: |          | 0/? [00:00<?, ?it/s]"
      ]
     },
     "metadata": {},
     "output_type": "display_data"
    },
    {
     "name": "stderr",
     "output_type": "stream",
     "text": [
      "/usr/local/lib/python3.11/site-packages/neuralforecast/core.py:209: FutureWarning: In a future version the predictions will have the id as a column. You can set the `NIXTLA_ID_AS_COL` environment variable to adopt the new behavior and to suppress this warning.\n",
      "  warnings.warn(\n",
      "2024/10/01 11:24:23 INFO mlflow.tracking._tracking_service.client: 🏃 View run KAN_2024-10-01 11:18:46.062027 at: http://mlflow:5000/#/experiments/4/runs/e9592af7bba24af4bc11d03f5843ae34.\n",
      "2024/10/01 11:24:23 INFO mlflow.tracking._tracking_service.client: 🧪 View experiment at: http://mlflow:5000/#/experiments/4.\n",
      "[I 2024-10-01 11:24:23,332] Trial 0 finished with value: 0.7471861544326623 and parameters: {'data_set_size': '2k', 'input_size': 457, 'max_steps': 1124, 'batch_size': 110, 'windows_batch_size': 432, 'learning_rate': 0.004168599769657198, 'spline_order': 7, 'scale_noise': 0.02341992066698382, 'scale_base': 1.5057012652676034, 'scale_spline': 1.1259572035506904, 'grid_eps': 0.06028208456011766, 'n_hidden_layers': 1, 'hidden_size': 305}. Best is trial 0 with value: 0.7471861544326623.\n",
      "Seed set to 1\n"
     ]
    },
    {
     "name": "stdout",
     "output_type": "stream",
     "text": [
      "models: [KAN]\n",
      "params: {'data_set_size': '2k', 'h': 48, 'loss': 'MQLoss(level=[99, 95, 90, 75, 50])', 'random_seed': 1, 'input_size': 253, 'max_steps': 1769, 'batch_size': 28, 'learning_rate': 0.01916200164999499, 'windows_batch_size': 364, 'spline_order': 5, 'scale_noise': 0.34901978583573195, 'scale_base': 0.9732734465090944, 'scale_spline': 1.5297513915223755, 'grid_eps': 0.08511631047076357, 'n_hidden_layers': 1, 'hidden_size': 800}\n"
     ]
    },
    {
     "name": "stderr",
     "output_type": "stream",
     "text": [
      "GPU available: False, used: False\n",
      "TPU available: False, using: 0 TPU cores\n",
      "HPU available: False, using: 0 HPUs\n",
      "\n",
      "  | Name         | Type          | Params | Mode \n",
      "-------------------------------------------------------\n",
      "0 | loss         | MQLoss        | 11     | train\n",
      "1 | padder_train | ConstantPad1d | 0      | train\n",
      "2 | scaler       | TemporalNorm  | 0      | train\n",
      "3 | layers       | ModuleList    | 7.5 M  | train\n",
      "-------------------------------------------------------\n",
      "7.5 M     Trainable params\n",
      "11        Non-trainable params\n",
      "7.5 M     Total params\n",
      "29.990    Total estimated model params size (MB)\n",
      "8         Modules in train mode\n",
      "0         Modules in eval mode\n"
     ]
    },
    {
     "data": {
      "application/vnd.jupyter.widget-view+json": {
       "model_id": "",
       "version_major": 2,
       "version_minor": 0
      },
      "text/plain": [
       "Sanity Checking: |          | 0/? [00:00<?, ?it/s]"
      ]
     },
     "metadata": {},
     "output_type": "display_data"
    },
    {
     "data": {
      "application/vnd.jupyter.widget-view+json": {
       "model_id": "a5395cbc97254e188ab3b376fb3ab22e",
       "version_major": 2,
       "version_minor": 0
      },
      "text/plain": [
       "Training: |          | 0/? [00:00<?, ?it/s]"
      ]
     },
     "metadata": {},
     "output_type": "display_data"
    },
    {
     "data": {
      "application/vnd.jupyter.widget-view+json": {
       "model_id": "",
       "version_major": 2,
       "version_minor": 0
      },
      "text/plain": [
       "Validation: |          | 0/? [00:00<?, ?it/s]"
      ]
     },
     "metadata": {},
     "output_type": "display_data"
    },
    {
     "data": {
      "application/vnd.jupyter.widget-view+json": {
       "model_id": "",
       "version_major": 2,
       "version_minor": 0
      },
      "text/plain": [
       "Validation: |          | 0/? [00:00<?, ?it/s]"
      ]
     },
     "metadata": {},
     "output_type": "display_data"
    },
    {
     "data": {
      "application/vnd.jupyter.widget-view+json": {
       "model_id": "",
       "version_major": 2,
       "version_minor": 0
      },
      "text/plain": [
       "Validation: |          | 0/? [00:00<?, ?it/s]"
      ]
     },
     "metadata": {},
     "output_type": "display_data"
    },
    {
     "data": {
      "application/vnd.jupyter.widget-view+json": {
       "model_id": "",
       "version_major": 2,
       "version_minor": 0
      },
      "text/plain": [
       "Validation: |          | 0/? [00:00<?, ?it/s]"
      ]
     },
     "metadata": {},
     "output_type": "display_data"
    },
    {
     "data": {
      "application/vnd.jupyter.widget-view+json": {
       "model_id": "",
       "version_major": 2,
       "version_minor": 0
      },
      "text/plain": [
       "Validation: |          | 0/? [00:00<?, ?it/s]"
      ]
     },
     "metadata": {},
     "output_type": "display_data"
    },
    {
     "data": {
      "application/vnd.jupyter.widget-view+json": {
       "model_id": "",
       "version_major": 2,
       "version_minor": 0
      },
      "text/plain": [
       "Validation: |          | 0/? [00:00<?, ?it/s]"
      ]
     },
     "metadata": {},
     "output_type": "display_data"
    },
    {
     "data": {
      "application/vnd.jupyter.widget-view+json": {
       "model_id": "",
       "version_major": 2,
       "version_minor": 0
      },
      "text/plain": [
       "Validation: |          | 0/? [00:00<?, ?it/s]"
      ]
     },
     "metadata": {},
     "output_type": "display_data"
    },
    {
     "data": {
      "application/vnd.jupyter.widget-view+json": {
       "model_id": "",
       "version_major": 2,
       "version_minor": 0
      },
      "text/plain": [
       "Validation: |          | 0/? [00:00<?, ?it/s]"
      ]
     },
     "metadata": {},
     "output_type": "display_data"
    },
    {
     "data": {
      "application/vnd.jupyter.widget-view+json": {
       "model_id": "",
       "version_major": 2,
       "version_minor": 0
      },
      "text/plain": [
       "Validation: |          | 0/? [00:00<?, ?it/s]"
      ]
     },
     "metadata": {},
     "output_type": "display_data"
    },
    {
     "data": {
      "application/vnd.jupyter.widget-view+json": {
       "model_id": "",
       "version_major": 2,
       "version_minor": 0
      },
      "text/plain": [
       "Validation: |          | 0/? [00:00<?, ?it/s]"
      ]
     },
     "metadata": {},
     "output_type": "display_data"
    },
    {
     "data": {
      "application/vnd.jupyter.widget-view+json": {
       "model_id": "",
       "version_major": 2,
       "version_minor": 0
      },
      "text/plain": [
       "Validation: |          | 0/? [00:00<?, ?it/s]"
      ]
     },
     "metadata": {},
     "output_type": "display_data"
    },
    {
     "data": {
      "application/vnd.jupyter.widget-view+json": {
       "model_id": "",
       "version_major": 2,
       "version_minor": 0
      },
      "text/plain": [
       "Validation: |          | 0/? [00:00<?, ?it/s]"
      ]
     },
     "metadata": {},
     "output_type": "display_data"
    },
    {
     "data": {
      "application/vnd.jupyter.widget-view+json": {
       "model_id": "",
       "version_major": 2,
       "version_minor": 0
      },
      "text/plain": [
       "Validation: |          | 0/? [00:00<?, ?it/s]"
      ]
     },
     "metadata": {},
     "output_type": "display_data"
    },
    {
     "data": {
      "application/vnd.jupyter.widget-view+json": {
       "model_id": "",
       "version_major": 2,
       "version_minor": 0
      },
      "text/plain": [
       "Validation: |          | 0/? [00:00<?, ?it/s]"
      ]
     },
     "metadata": {},
     "output_type": "display_data"
    },
    {
     "data": {
      "application/vnd.jupyter.widget-view+json": {
       "model_id": "",
       "version_major": 2,
       "version_minor": 0
      },
      "text/plain": [
       "Validation: |          | 0/? [00:00<?, ?it/s]"
      ]
     },
     "metadata": {},
     "output_type": "display_data"
    },
    {
     "data": {
      "application/vnd.jupyter.widget-view+json": {
       "model_id": "",
       "version_major": 2,
       "version_minor": 0
      },
      "text/plain": [
       "Validation: |          | 0/? [00:00<?, ?it/s]"
      ]
     },
     "metadata": {},
     "output_type": "display_data"
    },
    {
     "data": {
      "application/vnd.jupyter.widget-view+json": {
       "model_id": "",
       "version_major": 2,
       "version_minor": 0
      },
      "text/plain": [
       "Validation: |          | 0/? [00:00<?, ?it/s]"
      ]
     },
     "metadata": {},
     "output_type": "display_data"
    },
    {
     "name": "stderr",
     "output_type": "stream",
     "text": [
      "`Trainer.fit` stopped: `max_steps=1769` reached.\n",
      "GPU available: False, used: False\n",
      "TPU available: False, using: 0 TPU cores\n",
      "HPU available: False, using: 0 HPUs\n"
     ]
    },
    {
     "data": {
      "application/vnd.jupyter.widget-view+json": {
       "model_id": "f87b2f79db734367987a18f8735f2162",
       "version_major": 2,
       "version_minor": 0
      },
      "text/plain": [
       "Predicting: |          | 0/? [00:00<?, ?it/s]"
      ]
     },
     "metadata": {},
     "output_type": "display_data"
    },
    {
     "name": "stderr",
     "output_type": "stream",
     "text": [
      "/usr/local/lib/python3.11/site-packages/neuralforecast/core.py:209: FutureWarning: In a future version the predictions will have the id as a column. You can set the `NIXTLA_ID_AS_COL` environment variable to adopt the new behavior and to suppress this warning.\n",
      "  warnings.warn(\n",
      "2024/10/01 11:34:25 INFO mlflow.tracking._tracking_service.client: 🏃 View run KAN_2024-10-01 11:24:23.492906 at: http://mlflow:5000/#/experiments/4/runs/9b0da07f90cf413a9a626dbc051a2a1e.\n",
      "2024/10/01 11:34:25 INFO mlflow.tracking._tracking_service.client: 🧪 View experiment at: http://mlflow:5000/#/experiments/4.\n",
      "[I 2024-10-01 11:34:25,791] Trial 1 finished with value: 0.7385984636400945 and parameters: {'data_set_size': '2k', 'input_size': 253, 'max_steps': 1769, 'batch_size': 28, 'windows_batch_size': 364, 'learning_rate': 0.01916200164999499, 'spline_order': 5, 'scale_noise': 0.34901978583573195, 'scale_base': 0.9732734465090944, 'scale_spline': 1.5297513915223755, 'grid_eps': 0.08511631047076357, 'n_hidden_layers': 1, 'hidden_size': 800}. Best is trial 1 with value: 0.7385984636400945.\n",
      "Seed set to 1\n"
     ]
    },
    {
     "name": "stdout",
     "output_type": "stream",
     "text": [
      "models: [KAN]\n",
      "params: {'data_set_size': '1k', 'h': 48, 'loss': 'MQLoss(level=[99, 95, 90, 75, 50])', 'random_seed': 1, 'input_size': 359, 'max_steps': 347, 'batch_size': 8, 'learning_rate': 0.004311399508401176, 'windows_batch_size': 430, 'spline_order': 3, 'scale_noise': 0.25087084804736576, 'scale_base': 0.5800438176756206, 'scale_spline': 1.3611764082380196, 'grid_eps': 0.023205571741522914, 'n_hidden_layers': 2, 'hidden_size': 755}\n"
     ]
    },
    {
     "name": "stderr",
     "output_type": "stream",
     "text": [
      "GPU available: False, used: False\n",
      "TPU available: False, using: 0 TPU cores\n",
      "HPU available: False, using: 0 HPUs\n",
      "\n",
      "  | Name         | Type          | Params | Mode \n",
      "-------------------------------------------------------\n",
      "0 | loss         | MQLoss        | 11     | train\n",
      "1 | padder_train | ConstantPad1d | 0      | train\n",
      "2 | scaler       | TemporalNorm  | 0      | train\n",
      "3 | layers       | ModuleList    | 12.4 M | train\n",
      "-------------------------------------------------------\n",
      "12.4 M    Trainable params\n",
      "11        Non-trainable params\n",
      "12.4 M    Total params\n",
      "49.588    Total estimated model params size (MB)\n",
      "10        Modules in train mode\n",
      "0         Modules in eval mode\n"
     ]
    },
    {
     "data": {
      "application/vnd.jupyter.widget-view+json": {
       "model_id": "",
       "version_major": 2,
       "version_minor": 0
      },
      "text/plain": [
       "Sanity Checking: |          | 0/? [00:00<?, ?it/s]"
      ]
     },
     "metadata": {},
     "output_type": "display_data"
    },
    {
     "data": {
      "application/vnd.jupyter.widget-view+json": {
       "model_id": "c9dfad10323542c5aba1b51b1eb90e7c",
       "version_major": 2,
       "version_minor": 0
      },
      "text/plain": [
       "Training: |          | 0/? [00:00<?, ?it/s]"
      ]
     },
     "metadata": {},
     "output_type": "display_data"
    },
    {
     "data": {
      "application/vnd.jupyter.widget-view+json": {
       "model_id": "",
       "version_major": 2,
       "version_minor": 0
      },
      "text/plain": [
       "Validation: |          | 0/? [00:00<?, ?it/s]"
      ]
     },
     "metadata": {},
     "output_type": "display_data"
    },
    {
     "data": {
      "application/vnd.jupyter.widget-view+json": {
       "model_id": "",
       "version_major": 2,
       "version_minor": 0
      },
      "text/plain": [
       "Validation: |          | 0/? [00:00<?, ?it/s]"
      ]
     },
     "metadata": {},
     "output_type": "display_data"
    },
    {
     "data": {
      "application/vnd.jupyter.widget-view+json": {
       "model_id": "",
       "version_major": 2,
       "version_minor": 0
      },
      "text/plain": [
       "Validation: |          | 0/? [00:00<?, ?it/s]"
      ]
     },
     "metadata": {},
     "output_type": "display_data"
    },
    {
     "name": "stderr",
     "output_type": "stream",
     "text": [
      "`Trainer.fit` stopped: `max_steps=347` reached.\n",
      "GPU available: False, used: False\n",
      "TPU available: False, using: 0 TPU cores\n",
      "HPU available: False, using: 0 HPUs\n"
     ]
    },
    {
     "data": {
      "application/vnd.jupyter.widget-view+json": {
       "model_id": "bc085e434a2c4446ba83df1b41adadbf",
       "version_major": 2,
       "version_minor": 0
      },
      "text/plain": [
       "Predicting: |          | 0/? [00:00<?, ?it/s]"
      ]
     },
     "metadata": {},
     "output_type": "display_data"
    },
    {
     "name": "stderr",
     "output_type": "stream",
     "text": [
      "/usr/local/lib/python3.11/site-packages/neuralforecast/core.py:209: FutureWarning: In a future version the predictions will have the id as a column. You can set the `NIXTLA_ID_AS_COL` environment variable to adopt the new behavior and to suppress this warning.\n",
      "  warnings.warn(\n",
      "2024/10/01 11:37:09 INFO mlflow.tracking._tracking_service.client: 🏃 View run KAN_2024-10-01 11:34:26.073298 at: http://mlflow:5000/#/experiments/4/runs/eee87f5dc2a245258ccd4ec354b8de0c.\n",
      "2024/10/01 11:37:09 INFO mlflow.tracking._tracking_service.client: 🧪 View experiment at: http://mlflow:5000/#/experiments/4.\n",
      "[I 2024-10-01 11:37:09,332] Trial 2 finished with value: 0.7623027997182056 and parameters: {'data_set_size': '1k', 'input_size': 359, 'max_steps': 347, 'batch_size': 8, 'windows_batch_size': 430, 'learning_rate': 0.004311399508401176, 'spline_order': 3, 'scale_noise': 0.25087084804736576, 'scale_base': 0.5800438176756206, 'scale_spline': 1.3611764082380196, 'grid_eps': 0.023205571741522914, 'n_hidden_layers': 2, 'hidden_size': 755}. Best is trial 1 with value: 0.7385984636400945.\n",
      "Seed set to 1\n"
     ]
    },
    {
     "name": "stdout",
     "output_type": "stream",
     "text": [
      "models: [KAN]\n",
      "params: {'data_set_size': '5k', 'h': 48, 'loss': 'MQLoss(level=[99, 95, 90, 75, 50])', 'random_seed': 1, 'input_size': 951, 'max_steps': 1215, 'batch_size': 232, 'learning_rate': 0.002871599310290095, 'windows_batch_size': 291, 'spline_order': 6, 'scale_noise': 0.20486165012291147, 'scale_base': 0.7480312956753992, 'scale_spline': 1.8912628705940508, 'grid_eps': 0.0412989273770956, 'n_hidden_layers': 3, 'hidden_size': 779}\n"
     ]
    },
    {
     "name": "stderr",
     "output_type": "stream",
     "text": [
      "GPU available: False, used: False\n",
      "TPU available: False, using: 0 TPU cores\n",
      "HPU available: False, using: 0 HPUs\n",
      "\n",
      "  | Name         | Type          | Params | Mode \n",
      "-------------------------------------------------------\n",
      "0 | loss         | MQLoss        | 11     | train\n",
      "1 | padder_train | ConstantPad1d | 0      | train\n",
      "2 | scaler       | TemporalNorm  | 0      | train\n",
      "3 | layers       | ModuleList    | 30.8 M | train\n",
      "-------------------------------------------------------\n",
      "30.8 M    Trainable params\n",
      "11        Non-trainable params\n",
      "30.8 M    Total params\n",
      "123.023   Total estimated model params size (MB)\n",
      "12        Modules in train mode\n",
      "0         Modules in eval mode\n"
     ]
    },
    {
     "data": {
      "application/vnd.jupyter.widget-view+json": {
       "model_id": "",
       "version_major": 2,
       "version_minor": 0
      },
      "text/plain": [
       "Sanity Checking: |          | 0/? [00:00<?, ?it/s]"
      ]
     },
     "metadata": {},
     "output_type": "display_data"
    },
    {
     "data": {
      "application/vnd.jupyter.widget-view+json": {
       "model_id": "c2b5da8e256e483da6086dfd489df9f2",
       "version_major": 2,
       "version_minor": 0
      },
      "text/plain": [
       "Training: |          | 0/? [00:00<?, ?it/s]"
      ]
     },
     "metadata": {},
     "output_type": "display_data"
    },
    {
     "data": {
      "application/vnd.jupyter.widget-view+json": {
       "model_id": "",
       "version_major": 2,
       "version_minor": 0
      },
      "text/plain": [
       "Validation: |          | 0/? [00:00<?, ?it/s]"
      ]
     },
     "metadata": {},
     "output_type": "display_data"
    },
    {
     "data": {
      "application/vnd.jupyter.widget-view+json": {
       "model_id": "",
       "version_major": 2,
       "version_minor": 0
      },
      "text/plain": [
       "Validation: |          | 0/? [00:00<?, ?it/s]"
      ]
     },
     "metadata": {},
     "output_type": "display_data"
    },
    {
     "data": {
      "application/vnd.jupyter.widget-view+json": {
       "model_id": "",
       "version_major": 2,
       "version_minor": 0
      },
      "text/plain": [
       "Validation: |          | 0/? [00:00<?, ?it/s]"
      ]
     },
     "metadata": {},
     "output_type": "display_data"
    },
    {
     "data": {
      "application/vnd.jupyter.widget-view+json": {
       "model_id": "",
       "version_major": 2,
       "version_minor": 0
      },
      "text/plain": [
       "Validation: |          | 0/? [00:00<?, ?it/s]"
      ]
     },
     "metadata": {},
     "output_type": "display_data"
    },
    {
     "data": {
      "application/vnd.jupyter.widget-view+json": {
       "model_id": "",
       "version_major": 2,
       "version_minor": 0
      },
      "text/plain": [
       "Validation: |          | 0/? [00:00<?, ?it/s]"
      ]
     },
     "metadata": {},
     "output_type": "display_data"
    },
    {
     "data": {
      "application/vnd.jupyter.widget-view+json": {
       "model_id": "",
       "version_major": 2,
       "version_minor": 0
      },
      "text/plain": [
       "Validation: |          | 0/? [00:00<?, ?it/s]"
      ]
     },
     "metadata": {},
     "output_type": "display_data"
    },
    {
     "data": {
      "application/vnd.jupyter.widget-view+json": {
       "model_id": "",
       "version_major": 2,
       "version_minor": 0
      },
      "text/plain": [
       "Validation: |          | 0/? [00:00<?, ?it/s]"
      ]
     },
     "metadata": {},
     "output_type": "display_data"
    },
    {
     "data": {
      "application/vnd.jupyter.widget-view+json": {
       "model_id": "",
       "version_major": 2,
       "version_minor": 0
      },
      "text/plain": [
       "Validation: |          | 0/? [00:00<?, ?it/s]"
      ]
     },
     "metadata": {},
     "output_type": "display_data"
    },
    {
     "data": {
      "application/vnd.jupyter.widget-view+json": {
       "model_id": "",
       "version_major": 2,
       "version_minor": 0
      },
      "text/plain": [
       "Validation: |          | 0/? [00:00<?, ?it/s]"
      ]
     },
     "metadata": {},
     "output_type": "display_data"
    },
    {
     "data": {
      "application/vnd.jupyter.widget-view+json": {
       "model_id": "",
       "version_major": 2,
       "version_minor": 0
      },
      "text/plain": [
       "Validation: |          | 0/? [00:00<?, ?it/s]"
      ]
     },
     "metadata": {},
     "output_type": "display_data"
    },
    {
     "data": {
      "application/vnd.jupyter.widget-view+json": {
       "model_id": "",
       "version_major": 2,
       "version_minor": 0
      },
      "text/plain": [
       "Validation: |          | 0/? [00:00<?, ?it/s]"
      ]
     },
     "metadata": {},
     "output_type": "display_data"
    },
    {
     "data": {
      "application/vnd.jupyter.widget-view+json": {
       "model_id": "",
       "version_major": 2,
       "version_minor": 0
      },
      "text/plain": [
       "Validation: |          | 0/? [00:00<?, ?it/s]"
      ]
     },
     "metadata": {},
     "output_type": "display_data"
    },
    {
     "name": "stderr",
     "output_type": "stream",
     "text": [
      "`Trainer.fit` stopped: `max_steps=1215` reached.\n",
      "GPU available: False, used: False\n",
      "TPU available: False, using: 0 TPU cores\n",
      "HPU available: False, using: 0 HPUs\n"
     ]
    },
    {
     "data": {
      "application/vnd.jupyter.widget-view+json": {
       "model_id": "95cd148739a542c088b0ca61a5cbe4db",
       "version_major": 2,
       "version_minor": 0
      },
      "text/plain": [
       "Predicting: |          | 0/? [00:00<?, ?it/s]"
      ]
     },
     "metadata": {},
     "output_type": "display_data"
    },
    {
     "name": "stderr",
     "output_type": "stream",
     "text": [
      "/usr/local/lib/python3.11/site-packages/neuralforecast/core.py:209: FutureWarning: In a future version the predictions will have the id as a column. You can set the `NIXTLA_ID_AS_COL` environment variable to adopt the new behavior and to suppress this warning.\n",
      "  warnings.warn(\n",
      "2024/10/01 12:01:25 INFO mlflow.tracking._tracking_service.client: 🏃 View run KAN_2024-10-01 11:37:09.828900 at: http://mlflow:5000/#/experiments/4/runs/9e67876a5f864003830a8f36b0f0fcfe.\n",
      "2024/10/01 12:01:25 INFO mlflow.tracking._tracking_service.client: 🧪 View experiment at: http://mlflow:5000/#/experiments/4.\n",
      "[I 2024-10-01 12:01:25,064] Trial 3 finished with value: 0.7604788577571973 and parameters: {'data_set_size': '5k', 'input_size': 951, 'max_steps': 1215, 'batch_size': 232, 'windows_batch_size': 291, 'learning_rate': 0.002871599310290095, 'spline_order': 6, 'scale_noise': 0.20486165012291147, 'scale_base': 0.7480312956753992, 'scale_spline': 1.8912628705940508, 'grid_eps': 0.0412989273770956, 'n_hidden_layers': 3, 'hidden_size': 779}. Best is trial 1 with value: 0.7385984636400945.\n",
      "Seed set to 1\n"
     ]
    },
    {
     "name": "stdout",
     "output_type": "stream",
     "text": [
      "models: [KAN]\n",
      "params: {'data_set_size': '20k', 'h': 48, 'loss': 'MQLoss(level=[99, 95, 90, 75, 50])', 'random_seed': 1, 'input_size': 697, 'max_steps': 1281, 'batch_size': 33, 'learning_rate': 0.009053251456250817, 'windows_batch_size': 500, 'spline_order': 5, 'scale_noise': 0.2099870333530278, 'scale_base': 0.8555404703645415, 'scale_spline': 1.8550692808433806, 'grid_eps': 0.06163115380050573, 'n_hidden_layers': 1, 'hidden_size': 681}\n"
     ]
    },
    {
     "name": "stderr",
     "output_type": "stream",
     "text": [
      "GPU available: False, used: False\n",
      "TPU available: False, using: 0 TPU cores\n",
      "HPU available: False, using: 0 HPUs\n",
      "\n",
      "  | Name         | Type          | Params | Mode \n",
      "-------------------------------------------------------\n",
      "0 | loss         | MQLoss        | 11     | train\n",
      "1 | padder_train | ConstantPad1d | 0      | train\n",
      "2 | scaler       | TemporalNorm  | 0      | train\n",
      "3 | layers       | ModuleList    | 10.0 M | train\n",
      "-------------------------------------------------------\n",
      "10.0 M    Trainable params\n",
      "11        Non-trainable params\n",
      "10.0 M    Total params\n",
      "40.043    Total estimated model params size (MB)\n",
      "8         Modules in train mode\n",
      "0         Modules in eval mode\n"
     ]
    },
    {
     "data": {
      "application/vnd.jupyter.widget-view+json": {
       "model_id": "",
       "version_major": 2,
       "version_minor": 0
      },
      "text/plain": [
       "Sanity Checking: |          | 0/? [00:00<?, ?it/s]"
      ]
     },
     "metadata": {},
     "output_type": "display_data"
    },
    {
     "data": {
      "application/vnd.jupyter.widget-view+json": {
       "model_id": "e4a10071c8ed478ca797434ff6dfa92f",
       "version_major": 2,
       "version_minor": 0
      },
      "text/plain": [
       "Training: |          | 0/? [00:00<?, ?it/s]"
      ]
     },
     "metadata": {},
     "output_type": "display_data"
    },
    {
     "data": {
      "application/vnd.jupyter.widget-view+json": {
       "model_id": "",
       "version_major": 2,
       "version_minor": 0
      },
      "text/plain": [
       "Validation: |          | 0/? [00:00<?, ?it/s]"
      ]
     },
     "metadata": {},
     "output_type": "display_data"
    },
    {
     "data": {
      "application/vnd.jupyter.widget-view+json": {
       "model_id": "",
       "version_major": 2,
       "version_minor": 0
      },
      "text/plain": [
       "Validation: |          | 0/? [00:00<?, ?it/s]"
      ]
     },
     "metadata": {},
     "output_type": "display_data"
    },
    {
     "data": {
      "application/vnd.jupyter.widget-view+json": {
       "model_id": "",
       "version_major": 2,
       "version_minor": 0
      },
      "text/plain": [
       "Validation: |          | 0/? [00:00<?, ?it/s]"
      ]
     },
     "metadata": {},
     "output_type": "display_data"
    },
    {
     "data": {
      "application/vnd.jupyter.widget-view+json": {
       "model_id": "",
       "version_major": 2,
       "version_minor": 0
      },
      "text/plain": [
       "Validation: |          | 0/? [00:00<?, ?it/s]"
      ]
     },
     "metadata": {},
     "output_type": "display_data"
    },
    {
     "data": {
      "application/vnd.jupyter.widget-view+json": {
       "model_id": "",
       "version_major": 2,
       "version_minor": 0
      },
      "text/plain": [
       "Validation: |          | 0/? [00:00<?, ?it/s]"
      ]
     },
     "metadata": {},
     "output_type": "display_data"
    },
    {
     "data": {
      "application/vnd.jupyter.widget-view+json": {
       "model_id": "",
       "version_major": 2,
       "version_minor": 0
      },
      "text/plain": [
       "Validation: |          | 0/? [00:00<?, ?it/s]"
      ]
     },
     "metadata": {},
     "output_type": "display_data"
    },
    {
     "data": {
      "application/vnd.jupyter.widget-view+json": {
       "model_id": "",
       "version_major": 2,
       "version_minor": 0
      },
      "text/plain": [
       "Validation: |          | 0/? [00:00<?, ?it/s]"
      ]
     },
     "metadata": {},
     "output_type": "display_data"
    },
    {
     "data": {
      "application/vnd.jupyter.widget-view+json": {
       "model_id": "",
       "version_major": 2,
       "version_minor": 0
      },
      "text/plain": [
       "Validation: |          | 0/? [00:00<?, ?it/s]"
      ]
     },
     "metadata": {},
     "output_type": "display_data"
    },
    {
     "data": {
      "application/vnd.jupyter.widget-view+json": {
       "model_id": "",
       "version_major": 2,
       "version_minor": 0
      },
      "text/plain": [
       "Validation: |          | 0/? [00:00<?, ?it/s]"
      ]
     },
     "metadata": {},
     "output_type": "display_data"
    },
    {
     "data": {
      "application/vnd.jupyter.widget-view+json": {
       "model_id": "",
       "version_major": 2,
       "version_minor": 0
      },
      "text/plain": [
       "Validation: |          | 0/? [00:00<?, ?it/s]"
      ]
     },
     "metadata": {},
     "output_type": "display_data"
    },
    {
     "data": {
      "application/vnd.jupyter.widget-view+json": {
       "model_id": "",
       "version_major": 2,
       "version_minor": 0
      },
      "text/plain": [
       "Validation: |          | 0/? [00:00<?, ?it/s]"
      ]
     },
     "metadata": {},
     "output_type": "display_data"
    },
    {
     "data": {
      "application/vnd.jupyter.widget-view+json": {
       "model_id": "",
       "version_major": 2,
       "version_minor": 0
      },
      "text/plain": [
       "Validation: |          | 0/? [00:00<?, ?it/s]"
      ]
     },
     "metadata": {},
     "output_type": "display_data"
    },
    {
     "name": "stderr",
     "output_type": "stream",
     "text": [
      "`Trainer.fit` stopped: `max_steps=1281` reached.\n",
      "GPU available: False, used: False\n",
      "TPU available: False, using: 0 TPU cores\n",
      "HPU available: False, using: 0 HPUs\n"
     ]
    },
    {
     "data": {
      "application/vnd.jupyter.widget-view+json": {
       "model_id": "457f7627cfe84dc59ec80088923f4d5e",
       "version_major": 2,
       "version_minor": 0
      },
      "text/plain": [
       "Predicting: |          | 0/? [00:00<?, ?it/s]"
      ]
     },
     "metadata": {},
     "output_type": "display_data"
    },
    {
     "name": "stderr",
     "output_type": "stream",
     "text": [
      "/usr/local/lib/python3.11/site-packages/neuralforecast/core.py:209: FutureWarning: In a future version the predictions will have the id as a column. You can set the `NIXTLA_ID_AS_COL` environment variable to adopt the new behavior and to suppress this warning.\n",
      "  warnings.warn(\n",
      "2024/10/01 12:13:40 INFO mlflow.tracking._tracking_service.client: 🏃 View run KAN_2024-10-01 12:01:25.278937 at: http://mlflow:5000/#/experiments/4/runs/e778f98029b548b299f45d7d4d328037.\n",
      "2024/10/01 12:13:40 INFO mlflow.tracking._tracking_service.client: 🧪 View experiment at: http://mlflow:5000/#/experiments/4.\n",
      "[I 2024-10-01 12:13:40,559] Trial 4 finished with value: 0.6676827913365658 and parameters: {'data_set_size': '20k', 'input_size': 697, 'max_steps': 1281, 'batch_size': 33, 'windows_batch_size': 500, 'learning_rate': 0.009053251456250817, 'spline_order': 5, 'scale_noise': 0.2099870333530278, 'scale_base': 0.8555404703645415, 'scale_spline': 1.8550692808433806, 'grid_eps': 0.06163115380050573, 'n_hidden_layers': 1, 'hidden_size': 681}. Best is trial 4 with value: 0.6676827913365658.\n",
      "Seed set to 1\n"
     ]
    },
    {
     "name": "stdout",
     "output_type": "stream",
     "text": [
      "models: [KAN]\n",
      "params: {'data_set_size': '20k', 'h': 48, 'loss': 'MQLoss(level=[99, 95, 90, 75, 50])', 'random_seed': 1, 'input_size': 722, 'max_steps': 1995, 'batch_size': 47, 'learning_rate': 0.018658649714439556, 'windows_batch_size': 291, 'spline_order': 6, 'scale_noise': 0.04234008463381062, 'scale_base': 1.6331945789036997, 'scale_spline': 1.6308142826918695, 'grid_eps': 0.0930722081991835, 'n_hidden_layers': 3, 'hidden_size': 239}\n"
     ]
    },
    {
     "name": "stderr",
     "output_type": "stream",
     "text": [
      "GPU available: False, used: False\n",
      "TPU available: False, using: 0 TPU cores\n",
      "HPU available: False, using: 0 HPUs\n",
      "\n",
      "  | Name         | Type          | Params | Mode \n",
      "-------------------------------------------------------\n",
      "0 | loss         | MQLoss        | 11     | train\n",
      "1 | padder_train | ConstantPad1d | 0      | train\n",
      "2 | scaler       | TemporalNorm  | 0      | train\n",
      "3 | layers       | ModuleList    | 5.4 M  | train\n",
      "-------------------------------------------------------\n",
      "5.4 M     Trainable params\n",
      "11        Non-trainable params\n",
      "5.4 M     Total params\n",
      "21.476    Total estimated model params size (MB)\n",
      "12        Modules in train mode\n",
      "0         Modules in eval mode\n"
     ]
    },
    {
     "data": {
      "application/vnd.jupyter.widget-view+json": {
       "model_id": "",
       "version_major": 2,
       "version_minor": 0
      },
      "text/plain": [
       "Sanity Checking: |          | 0/? [00:00<?, ?it/s]"
      ]
     },
     "metadata": {},
     "output_type": "display_data"
    },
    {
     "data": {
      "application/vnd.jupyter.widget-view+json": {
       "model_id": "0c47b8e6de3444949a6e249bfea27f83",
       "version_major": 2,
       "version_minor": 0
      },
      "text/plain": [
       "Training: |          | 0/? [00:00<?, ?it/s]"
      ]
     },
     "metadata": {},
     "output_type": "display_data"
    },
    {
     "data": {
      "application/vnd.jupyter.widget-view+json": {
       "model_id": "",
       "version_major": 2,
       "version_minor": 0
      },
      "text/plain": [
       "Validation: |          | 0/? [00:00<?, ?it/s]"
      ]
     },
     "metadata": {},
     "output_type": "display_data"
    },
    {
     "data": {
      "application/vnd.jupyter.widget-view+json": {
       "model_id": "",
       "version_major": 2,
       "version_minor": 0
      },
      "text/plain": [
       "Validation: |          | 0/? [00:00<?, ?it/s]"
      ]
     },
     "metadata": {},
     "output_type": "display_data"
    },
    {
     "data": {
      "application/vnd.jupyter.widget-view+json": {
       "model_id": "",
       "version_major": 2,
       "version_minor": 0
      },
      "text/plain": [
       "Validation: |          | 0/? [00:00<?, ?it/s]"
      ]
     },
     "metadata": {},
     "output_type": "display_data"
    },
    {
     "data": {
      "application/vnd.jupyter.widget-view+json": {
       "model_id": "",
       "version_major": 2,
       "version_minor": 0
      },
      "text/plain": [
       "Validation: |          | 0/? [00:00<?, ?it/s]"
      ]
     },
     "metadata": {},
     "output_type": "display_data"
    },
    {
     "data": {
      "application/vnd.jupyter.widget-view+json": {
       "model_id": "",
       "version_major": 2,
       "version_minor": 0
      },
      "text/plain": [
       "Validation: |          | 0/? [00:00<?, ?it/s]"
      ]
     },
     "metadata": {},
     "output_type": "display_data"
    },
    {
     "data": {
      "application/vnd.jupyter.widget-view+json": {
       "model_id": "",
       "version_major": 2,
       "version_minor": 0
      },
      "text/plain": [
       "Validation: |          | 0/? [00:00<?, ?it/s]"
      ]
     },
     "metadata": {},
     "output_type": "display_data"
    },
    {
     "data": {
      "application/vnd.jupyter.widget-view+json": {
       "model_id": "",
       "version_major": 2,
       "version_minor": 0
      },
      "text/plain": [
       "Validation: |          | 0/? [00:00<?, ?it/s]"
      ]
     },
     "metadata": {},
     "output_type": "display_data"
    },
    {
     "data": {
      "application/vnd.jupyter.widget-view+json": {
       "model_id": "",
       "version_major": 2,
       "version_minor": 0
      },
      "text/plain": [
       "Validation: |          | 0/? [00:00<?, ?it/s]"
      ]
     },
     "metadata": {},
     "output_type": "display_data"
    },
    {
     "data": {
      "application/vnd.jupyter.widget-view+json": {
       "model_id": "",
       "version_major": 2,
       "version_minor": 0
      },
      "text/plain": [
       "Validation: |          | 0/? [00:00<?, ?it/s]"
      ]
     },
     "metadata": {},
     "output_type": "display_data"
    },
    {
     "data": {
      "application/vnd.jupyter.widget-view+json": {
       "model_id": "",
       "version_major": 2,
       "version_minor": 0
      },
      "text/plain": [
       "Validation: |          | 0/? [00:00<?, ?it/s]"
      ]
     },
     "metadata": {},
     "output_type": "display_data"
    },
    {
     "data": {
      "application/vnd.jupyter.widget-view+json": {
       "model_id": "",
       "version_major": 2,
       "version_minor": 0
      },
      "text/plain": [
       "Validation: |          | 0/? [00:00<?, ?it/s]"
      ]
     },
     "metadata": {},
     "output_type": "display_data"
    },
    {
     "data": {
      "application/vnd.jupyter.widget-view+json": {
       "model_id": "",
       "version_major": 2,
       "version_minor": 0
      },
      "text/plain": [
       "Validation: |          | 0/? [00:00<?, ?it/s]"
      ]
     },
     "metadata": {},
     "output_type": "display_data"
    },
    {
     "data": {
      "application/vnd.jupyter.widget-view+json": {
       "model_id": "",
       "version_major": 2,
       "version_minor": 0
      },
      "text/plain": [
       "Validation: |          | 0/? [00:00<?, ?it/s]"
      ]
     },
     "metadata": {},
     "output_type": "display_data"
    },
    {
     "data": {
      "application/vnd.jupyter.widget-view+json": {
       "model_id": "",
       "version_major": 2,
       "version_minor": 0
      },
      "text/plain": [
       "Validation: |          | 0/? [00:00<?, ?it/s]"
      ]
     },
     "metadata": {},
     "output_type": "display_data"
    },
    {
     "data": {
      "application/vnd.jupyter.widget-view+json": {
       "model_id": "",
       "version_major": 2,
       "version_minor": 0
      },
      "text/plain": [
       "Validation: |          | 0/? [00:00<?, ?it/s]"
      ]
     },
     "metadata": {},
     "output_type": "display_data"
    },
    {
     "data": {
      "application/vnd.jupyter.widget-view+json": {
       "model_id": "",
       "version_major": 2,
       "version_minor": 0
      },
      "text/plain": [
       "Validation: |          | 0/? [00:00<?, ?it/s]"
      ]
     },
     "metadata": {},
     "output_type": "display_data"
    },
    {
     "data": {
      "application/vnd.jupyter.widget-view+json": {
       "model_id": "",
       "version_major": 2,
       "version_minor": 0
      },
      "text/plain": [
       "Validation: |          | 0/? [00:00<?, ?it/s]"
      ]
     },
     "metadata": {},
     "output_type": "display_data"
    },
    {
     "data": {
      "application/vnd.jupyter.widget-view+json": {
       "model_id": "",
       "version_major": 2,
       "version_minor": 0
      },
      "text/plain": [
       "Validation: |          | 0/? [00:00<?, ?it/s]"
      ]
     },
     "metadata": {},
     "output_type": "display_data"
    },
    {
     "data": {
      "application/vnd.jupyter.widget-view+json": {
       "model_id": "",
       "version_major": 2,
       "version_minor": 0
      },
      "text/plain": [
       "Validation: |          | 0/? [00:00<?, ?it/s]"
      ]
     },
     "metadata": {},
     "output_type": "display_data"
    },
    {
     "name": "stderr",
     "output_type": "stream",
     "text": [
      "`Trainer.fit` stopped: `max_steps=1995` reached.\n",
      "GPU available: False, used: False\n",
      "TPU available: False, using: 0 TPU cores\n",
      "HPU available: False, using: 0 HPUs\n"
     ]
    },
    {
     "data": {
      "application/vnd.jupyter.widget-view+json": {
       "model_id": "fb2c9e33655a44538d955a447f288956",
       "version_major": 2,
       "version_minor": 0
      },
      "text/plain": [
       "Predicting: |          | 0/? [00:00<?, ?it/s]"
      ]
     },
     "metadata": {},
     "output_type": "display_data"
    },
    {
     "name": "stderr",
     "output_type": "stream",
     "text": [
      "/usr/local/lib/python3.11/site-packages/neuralforecast/core.py:209: FutureWarning: In a future version the predictions will have the id as a column. You can set the `NIXTLA_ID_AS_COL` environment variable to adopt the new behavior and to suppress this warning.\n",
      "  warnings.warn(\n",
      "2024/10/01 12:25:35 INFO mlflow.tracking._tracking_service.client: 🏃 View run KAN_2024-10-01 12:13:40.687434 at: http://mlflow:5000/#/experiments/4/runs/214d416ffba44feb999b5bd6f01a9e1d.\n",
      "2024/10/01 12:25:35 INFO mlflow.tracking._tracking_service.client: 🧪 View experiment at: http://mlflow:5000/#/experiments/4.\n",
      "[I 2024-10-01 12:25:35,933] Trial 5 finished with value: 0.8871393186761622 and parameters: {'data_set_size': '20k', 'input_size': 722, 'max_steps': 1995, 'batch_size': 47, 'windows_batch_size': 291, 'learning_rate': 0.018658649714439556, 'spline_order': 6, 'scale_noise': 0.04234008463381062, 'scale_base': 1.6331945789036997, 'scale_spline': 1.6308142826918695, 'grid_eps': 0.0930722081991835, 'n_hidden_layers': 3, 'hidden_size': 239}. Best is trial 4 with value: 0.6676827913365658.\n",
      "Seed set to 1\n"
     ]
    },
    {
     "name": "stdout",
     "output_type": "stream",
     "text": [
      "models: [KAN]\n",
      "params: {'data_set_size': '7k', 'h': 48, 'loss': 'MQLoss(level=[99, 95, 90, 75, 50])', 'random_seed': 1, 'input_size': 211, 'max_steps': 630, 'batch_size': 152, 'learning_rate': 0.011264501363188628, 'windows_batch_size': 505, 'spline_order': 2, 'scale_noise': 0.402310009613502, 'scale_base': 0.8494614107615306, 'scale_spline': 1.7106577934281688, 'grid_eps': 0.044907457965775464, 'n_hidden_layers': 3, 'hidden_size': 798}\n"
     ]
    },
    {
     "name": "stderr",
     "output_type": "stream",
     "text": [
      "GPU available: False, used: False\n",
      "TPU available: False, using: 0 TPU cores\n",
      "HPU available: False, using: 0 HPUs\n",
      "\n",
      "  | Name         | Type          | Params | Mode \n",
      "-------------------------------------------------------\n",
      "0 | loss         | MQLoss        | 11     | train\n",
      "1 | padder_train | ConstantPad1d | 0      | train\n",
      "2 | scaler       | TemporalNorm  | 0      | train\n",
      "3 | layers       | ModuleList    | 16.8 M | train\n",
      "-------------------------------------------------------\n",
      "16.8 M    Trainable params\n",
      "11        Non-trainable params\n",
      "16.8 M    Total params\n",
      "67.080    Total estimated model params size (MB)\n",
      "12        Modules in train mode\n",
      "0         Modules in eval mode\n"
     ]
    },
    {
     "data": {
      "application/vnd.jupyter.widget-view+json": {
       "model_id": "",
       "version_major": 2,
       "version_minor": 0
      },
      "text/plain": [
       "Sanity Checking: |          | 0/? [00:00<?, ?it/s]"
      ]
     },
     "metadata": {},
     "output_type": "display_data"
    },
    {
     "data": {
      "application/vnd.jupyter.widget-view+json": {
       "model_id": "07fd0d032c0740c0b29e42f1a8b9dd1b",
       "version_major": 2,
       "version_minor": 0
      },
      "text/plain": [
       "Training: |          | 0/? [00:00<?, ?it/s]"
      ]
     },
     "metadata": {},
     "output_type": "display_data"
    },
    {
     "data": {
      "application/vnd.jupyter.widget-view+json": {
       "model_id": "",
       "version_major": 2,
       "version_minor": 0
      },
      "text/plain": [
       "Validation: |          | 0/? [00:00<?, ?it/s]"
      ]
     },
     "metadata": {},
     "output_type": "display_data"
    },
    {
     "data": {
      "application/vnd.jupyter.widget-view+json": {
       "model_id": "",
       "version_major": 2,
       "version_minor": 0
      },
      "text/plain": [
       "Validation: |          | 0/? [00:00<?, ?it/s]"
      ]
     },
     "metadata": {},
     "output_type": "display_data"
    },
    {
     "data": {
      "application/vnd.jupyter.widget-view+json": {
       "model_id": "",
       "version_major": 2,
       "version_minor": 0
      },
      "text/plain": [
       "Validation: |          | 0/? [00:00<?, ?it/s]"
      ]
     },
     "metadata": {},
     "output_type": "display_data"
    },
    {
     "data": {
      "application/vnd.jupyter.widget-view+json": {
       "model_id": "",
       "version_major": 2,
       "version_minor": 0
      },
      "text/plain": [
       "Validation: |          | 0/? [00:00<?, ?it/s]"
      ]
     },
     "metadata": {},
     "output_type": "display_data"
    },
    {
     "data": {
      "application/vnd.jupyter.widget-view+json": {
       "model_id": "",
       "version_major": 2,
       "version_minor": 0
      },
      "text/plain": [
       "Validation: |          | 0/? [00:00<?, ?it/s]"
      ]
     },
     "metadata": {},
     "output_type": "display_data"
    },
    {
     "data": {
      "application/vnd.jupyter.widget-view+json": {
       "model_id": "",
       "version_major": 2,
       "version_minor": 0
      },
      "text/plain": [
       "Validation: |          | 0/? [00:00<?, ?it/s]"
      ]
     },
     "metadata": {},
     "output_type": "display_data"
    },
    {
     "name": "stderr",
     "output_type": "stream",
     "text": [
      "`Trainer.fit` stopped: `max_steps=630` reached.\n",
      "GPU available: False, used: False\n",
      "TPU available: False, using: 0 TPU cores\n",
      "HPU available: False, using: 0 HPUs\n"
     ]
    },
    {
     "data": {
      "application/vnd.jupyter.widget-view+json": {
       "model_id": "5a838f284b624be6b287c712acc1a7e9",
       "version_major": 2,
       "version_minor": 0
      },
      "text/plain": [
       "Predicting: |          | 0/? [00:00<?, ?it/s]"
      ]
     },
     "metadata": {},
     "output_type": "display_data"
    },
    {
     "name": "stderr",
     "output_type": "stream",
     "text": [
      "/usr/local/lib/python3.11/site-packages/neuralforecast/core.py:209: FutureWarning: In a future version the predictions will have the id as a column. You can set the `NIXTLA_ID_AS_COL` environment variable to adopt the new behavior and to suppress this warning.\n",
      "  warnings.warn(\n",
      "2024/10/01 12:32:16 INFO mlflow.tracking._tracking_service.client: 🏃 View run KAN_2024-10-01 12:25:36.338625 at: http://mlflow:5000/#/experiments/4/runs/696b86a3fa514ccbb850a8d5235c6f85.\n",
      "2024/10/01 12:32:16 INFO mlflow.tracking._tracking_service.client: 🧪 View experiment at: http://mlflow:5000/#/experiments/4.\n",
      "[I 2024-10-01 12:32:16,934] Trial 6 finished with value: 0.908617009867099 and parameters: {'data_set_size': '7k', 'input_size': 211, 'max_steps': 630, 'batch_size': 152, 'windows_batch_size': 505, 'learning_rate': 0.011264501363188628, 'spline_order': 2, 'scale_noise': 0.402310009613502, 'scale_base': 0.8494614107615306, 'scale_spline': 1.7106577934281688, 'grid_eps': 0.044907457965775464, 'n_hidden_layers': 3, 'hidden_size': 798}. Best is trial 4 with value: 0.6676827913365658.\n",
      "Seed set to 1\n"
     ]
    },
    {
     "name": "stdout",
     "output_type": "stream",
     "text": [
      "models: [KAN]\n",
      "params: {'data_set_size': '20k', 'h': 48, 'loss': 'MQLoss(level=[99, 95, 90, 75, 50])', 'random_seed': 1, 'input_size': 604, 'max_steps': 123, 'batch_size': 22, 'learning_rate': 0.011405199192206849, 'windows_batch_size': 504, 'spline_order': 3, 'scale_noise': 0.13363961483945846, 'scale_base': 1.6157387811126394, 'scale_spline': 0.7931442216639781, 'grid_eps': 0.062322303454593206, 'n_hidden_layers': 3, 'hidden_size': 887}\n"
     ]
    },
    {
     "name": "stderr",
     "output_type": "stream",
     "text": [
      "GPU available: False, used: False\n",
      "TPU available: False, using: 0 TPU cores\n",
      "HPU available: False, using: 0 HPUs\n",
      "\n",
      "  | Name         | Type          | Params | Mode \n",
      "-------------------------------------------------------\n",
      "0 | loss         | MQLoss        | 11     | train\n",
      "1 | padder_train | ConstantPad1d | 0      | train\n",
      "2 | scaler       | TemporalNorm  | 0      | train\n",
      "3 | layers       | ModuleList    | 25.8 M | train\n",
      "-------------------------------------------------------\n",
      "25.8 M    Trainable params\n",
      "11        Non-trainable params\n",
      "25.8 M    Total params\n",
      "103.105   Total estimated model params size (MB)\n",
      "12        Modules in train mode\n",
      "0         Modules in eval mode\n"
     ]
    },
    {
     "data": {
      "application/vnd.jupyter.widget-view+json": {
       "model_id": "",
       "version_major": 2,
       "version_minor": 0
      },
      "text/plain": [
       "Sanity Checking: |          | 0/? [00:00<?, ?it/s]"
      ]
     },
     "metadata": {},
     "output_type": "display_data"
    },
    {
     "data": {
      "application/vnd.jupyter.widget-view+json": {
       "model_id": "b29853f00dbb4665befd4e313a01f842",
       "version_major": 2,
       "version_minor": 0
      },
      "text/plain": [
       "Training: |          | 0/? [00:00<?, ?it/s]"
      ]
     },
     "metadata": {},
     "output_type": "display_data"
    },
    {
     "data": {
      "application/vnd.jupyter.widget-view+json": {
       "model_id": "",
       "version_major": 2,
       "version_minor": 0
      },
      "text/plain": [
       "Validation: |          | 0/? [00:00<?, ?it/s]"
      ]
     },
     "metadata": {},
     "output_type": "display_data"
    },
    {
     "name": "stderr",
     "output_type": "stream",
     "text": [
      "`Trainer.fit` stopped: `max_steps=123` reached.\n",
      "GPU available: False, used: False\n",
      "TPU available: False, using: 0 TPU cores\n",
      "HPU available: False, using: 0 HPUs\n"
     ]
    },
    {
     "data": {
      "application/vnd.jupyter.widget-view+json": {
       "model_id": "6f280df050f94134a36648e04100c911",
       "version_major": 2,
       "version_minor": 0
      },
      "text/plain": [
       "Predicting: |          | 0/? [00:00<?, ?it/s]"
      ]
     },
     "metadata": {},
     "output_type": "display_data"
    },
    {
     "name": "stderr",
     "output_type": "stream",
     "text": [
      "/usr/local/lib/python3.11/site-packages/neuralforecast/core.py:209: FutureWarning: In a future version the predictions will have the id as a column. You can set the `NIXTLA_ID_AS_COL` environment variable to adopt the new behavior and to suppress this warning.\n",
      "  warnings.warn(\n",
      "2024/10/01 12:34:51 INFO mlflow.tracking._tracking_service.client: 🏃 View run KAN_2024-10-01 12:32:18.697948 at: http://mlflow:5000/#/experiments/4/runs/9281d62acf144b209a5257af0b6160d0.\n",
      "2024/10/01 12:34:51 INFO mlflow.tracking._tracking_service.client: 🧪 View experiment at: http://mlflow:5000/#/experiments/4.\n",
      "[I 2024-10-01 12:34:51,966] Trial 7 finished with value: 0.8911204140641624 and parameters: {'data_set_size': '20k', 'input_size': 604, 'max_steps': 123, 'batch_size': 22, 'windows_batch_size': 504, 'learning_rate': 0.011405199192206849, 'spline_order': 3, 'scale_noise': 0.13363961483945846, 'scale_base': 1.6157387811126394, 'scale_spline': 0.7931442216639781, 'grid_eps': 0.062322303454593206, 'n_hidden_layers': 3, 'hidden_size': 887}. Best is trial 4 with value: 0.6676827913365658.\n",
      "Seed set to 1\n"
     ]
    },
    {
     "name": "stdout",
     "output_type": "stream",
     "text": [
      "models: [KAN]\n",
      "params: {'data_set_size': '6k', 'h': 48, 'loss': 'MQLoss(level=[99, 95, 90, 75, 50])', 'random_seed': 1, 'input_size': 646, 'max_steps': 1181, 'batch_size': 84, 'learning_rate': 0.011636929862991358, 'windows_batch_size': 510, 'spline_order': 4, 'scale_noise': 0.27996462736776945, 'scale_base': 1.618001646359753, 'scale_spline': 1.503849340179777, 'grid_eps': 0.03384276018965285, 'n_hidden_layers': 1, 'hidden_size': 459}\n"
     ]
    },
    {
     "name": "stderr",
     "output_type": "stream",
     "text": [
      "GPU available: False, used: False\n",
      "TPU available: False, using: 0 TPU cores\n",
      "HPU available: False, using: 0 HPUs\n",
      "\n",
      "  | Name         | Type          | Params | Mode \n",
      "-------------------------------------------------------\n",
      "0 | loss         | MQLoss        | 11     | train\n",
      "1 | padder_train | ConstantPad1d | 0      | train\n",
      "2 | scaler       | TemporalNorm  | 0      | train\n",
      "3 | layers       | ModuleList    | 5.9 M  | train\n",
      "-------------------------------------------------------\n",
      "5.9 M     Trainable params\n",
      "11        Non-trainable params\n",
      "5.9 M     Total params\n",
      "23.710    Total estimated model params size (MB)\n",
      "8         Modules in train mode\n",
      "0         Modules in eval mode\n"
     ]
    },
    {
     "data": {
      "application/vnd.jupyter.widget-view+json": {
       "model_id": "",
       "version_major": 2,
       "version_minor": 0
      },
      "text/plain": [
       "Sanity Checking: |          | 0/? [00:00<?, ?it/s]"
      ]
     },
     "metadata": {},
     "output_type": "display_data"
    },
    {
     "data": {
      "application/vnd.jupyter.widget-view+json": {
       "model_id": "4c0aecbbafa242eeba9751c7cdbd8be4",
       "version_major": 2,
       "version_minor": 0
      },
      "text/plain": [
       "Training: |          | 0/? [00:00<?, ?it/s]"
      ]
     },
     "metadata": {},
     "output_type": "display_data"
    },
    {
     "data": {
      "application/vnd.jupyter.widget-view+json": {
       "model_id": "",
       "version_major": 2,
       "version_minor": 0
      },
      "text/plain": [
       "Validation: |          | 0/? [00:00<?, ?it/s]"
      ]
     },
     "metadata": {},
     "output_type": "display_data"
    },
    {
     "data": {
      "application/vnd.jupyter.widget-view+json": {
       "model_id": "",
       "version_major": 2,
       "version_minor": 0
      },
      "text/plain": [
       "Validation: |          | 0/? [00:00<?, ?it/s]"
      ]
     },
     "metadata": {},
     "output_type": "display_data"
    },
    {
     "data": {
      "application/vnd.jupyter.widget-view+json": {
       "model_id": "",
       "version_major": 2,
       "version_minor": 0
      },
      "text/plain": [
       "Validation: |          | 0/? [00:00<?, ?it/s]"
      ]
     },
     "metadata": {},
     "output_type": "display_data"
    },
    {
     "data": {
      "application/vnd.jupyter.widget-view+json": {
       "model_id": "",
       "version_major": 2,
       "version_minor": 0
      },
      "text/plain": [
       "Validation: |          | 0/? [00:00<?, ?it/s]"
      ]
     },
     "metadata": {},
     "output_type": "display_data"
    },
    {
     "data": {
      "application/vnd.jupyter.widget-view+json": {
       "model_id": "",
       "version_major": 2,
       "version_minor": 0
      },
      "text/plain": [
       "Validation: |          | 0/? [00:00<?, ?it/s]"
      ]
     },
     "metadata": {},
     "output_type": "display_data"
    },
    {
     "data": {
      "application/vnd.jupyter.widget-view+json": {
       "model_id": "",
       "version_major": 2,
       "version_minor": 0
      },
      "text/plain": [
       "Validation: |          | 0/? [00:00<?, ?it/s]"
      ]
     },
     "metadata": {},
     "output_type": "display_data"
    },
    {
     "data": {
      "application/vnd.jupyter.widget-view+json": {
       "model_id": "",
       "version_major": 2,
       "version_minor": 0
      },
      "text/plain": [
       "Validation: |          | 0/? [00:00<?, ?it/s]"
      ]
     },
     "metadata": {},
     "output_type": "display_data"
    },
    {
     "data": {
      "application/vnd.jupyter.widget-view+json": {
       "model_id": "",
       "version_major": 2,
       "version_minor": 0
      },
      "text/plain": [
       "Validation: |          | 0/? [00:00<?, ?it/s]"
      ]
     },
     "metadata": {},
     "output_type": "display_data"
    },
    {
     "data": {
      "application/vnd.jupyter.widget-view+json": {
       "model_id": "",
       "version_major": 2,
       "version_minor": 0
      },
      "text/plain": [
       "Validation: |          | 0/? [00:00<?, ?it/s]"
      ]
     },
     "metadata": {},
     "output_type": "display_data"
    },
    {
     "data": {
      "application/vnd.jupyter.widget-view+json": {
       "model_id": "",
       "version_major": 2,
       "version_minor": 0
      },
      "text/plain": [
       "Validation: |          | 0/? [00:00<?, ?it/s]"
      ]
     },
     "metadata": {},
     "output_type": "display_data"
    },
    {
     "data": {
      "application/vnd.jupyter.widget-view+json": {
       "model_id": "",
       "version_major": 2,
       "version_minor": 0
      },
      "text/plain": [
       "Validation: |          | 0/? [00:00<?, ?it/s]"
      ]
     },
     "metadata": {},
     "output_type": "display_data"
    },
    {
     "name": "stderr",
     "output_type": "stream",
     "text": [
      "`Trainer.fit` stopped: `max_steps=1181` reached.\n",
      "GPU available: False, used: False\n",
      "TPU available: False, using: 0 TPU cores\n",
      "HPU available: False, using: 0 HPUs\n"
     ]
    },
    {
     "data": {
      "application/vnd.jupyter.widget-view+json": {
       "model_id": "3d0af3ad510b466b8d7c8cf2d2f4ddb6",
       "version_major": 2,
       "version_minor": 0
      },
      "text/plain": [
       "Predicting: |          | 0/? [00:00<?, ?it/s]"
      ]
     },
     "metadata": {},
     "output_type": "display_data"
    },
    {
     "name": "stderr",
     "output_type": "stream",
     "text": [
      "/usr/local/lib/python3.11/site-packages/neuralforecast/core.py:209: FutureWarning: In a future version the predictions will have the id as a column. You can set the `NIXTLA_ID_AS_COL` environment variable to adopt the new behavior and to suppress this warning.\n",
      "  warnings.warn(\n",
      "2024/10/01 12:41:27 INFO mlflow.tracking._tracking_service.client: 🏃 View run KAN_2024-10-01 12:34:52.176881 at: http://mlflow:5000/#/experiments/4/runs/42fd0a8e953f4f8ba1f68b5b4828c7e4.\n",
      "2024/10/01 12:41:27 INFO mlflow.tracking._tracking_service.client: 🧪 View experiment at: http://mlflow:5000/#/experiments/4.\n",
      "[I 2024-10-01 12:41:27,491] Trial 8 finished with value: 0.6919788170998644 and parameters: {'data_set_size': '6k', 'input_size': 646, 'max_steps': 1181, 'batch_size': 84, 'windows_batch_size': 510, 'learning_rate': 0.011636929862991358, 'spline_order': 4, 'scale_noise': 0.27996462736776945, 'scale_base': 1.618001646359753, 'scale_spline': 1.503849340179777, 'grid_eps': 0.03384276018965285, 'n_hidden_layers': 1, 'hidden_size': 459}. Best is trial 4 with value: 0.6676827913365658.\n",
      "Seed set to 1\n"
     ]
    },
    {
     "name": "stdout",
     "output_type": "stream",
     "text": [
      "models: [KAN]\n",
      "params: {'data_set_size': '10k', 'h': 48, 'loss': 'MQLoss(level=[99, 95, 90, 75, 50])', 'random_seed': 1, 'input_size': 572, 'max_steps': 1858, 'batch_size': 70, 'learning_rate': 0.014727812669444522, 'windows_batch_size': 272, 'spline_order': 6, 'scale_noise': 0.4548297677267268, 'scale_base': 1.897958103795256, 'scale_spline': 0.5209273594633955, 'grid_eps': 0.031092587750927846, 'n_hidden_layers': 2, 'hidden_size': 979}\n"
     ]
    },
    {
     "name": "stderr",
     "output_type": "stream",
     "text": [
      "GPU available: False, used: False\n",
      "TPU available: False, using: 0 TPU cores\n",
      "HPU available: False, using: 0 HPUs\n",
      "\n",
      "  | Name         | Type          | Params | Mode \n",
      "-------------------------------------------------------\n",
      "0 | loss         | MQLoss        | 11     | train\n",
      "1 | padder_train | ConstantPad1d | 0      | train\n",
      "2 | scaler       | TemporalNorm  | 0      | train\n",
      "3 | layers       | ModuleList    | 26.5 M | train\n",
      "-------------------------------------------------------\n",
      "26.5 M    Trainable params\n",
      "11        Non-trainable params\n",
      "26.5 M    Total params\n",
      "105.838   Total estimated model params size (MB)\n",
      "10        Modules in train mode\n",
      "0         Modules in eval mode\n"
     ]
    },
    {
     "data": {
      "application/vnd.jupyter.widget-view+json": {
       "model_id": "",
       "version_major": 2,
       "version_minor": 0
      },
      "text/plain": [
       "Sanity Checking: |          | 0/? [00:00<?, ?it/s]"
      ]
     },
     "metadata": {},
     "output_type": "display_data"
    },
    {
     "data": {
      "application/vnd.jupyter.widget-view+json": {
       "model_id": "8338a576824f410089090c9267d34d0f",
       "version_major": 2,
       "version_minor": 0
      },
      "text/plain": [
       "Training: |          | 0/? [00:00<?, ?it/s]"
      ]
     },
     "metadata": {},
     "output_type": "display_data"
    },
    {
     "data": {
      "application/vnd.jupyter.widget-view+json": {
       "model_id": "",
       "version_major": 2,
       "version_minor": 0
      },
      "text/plain": [
       "Validation: |          | 0/? [00:00<?, ?it/s]"
      ]
     },
     "metadata": {},
     "output_type": "display_data"
    },
    {
     "data": {
      "application/vnd.jupyter.widget-view+json": {
       "model_id": "",
       "version_major": 2,
       "version_minor": 0
      },
      "text/plain": [
       "Validation: |          | 0/? [00:00<?, ?it/s]"
      ]
     },
     "metadata": {},
     "output_type": "display_data"
    },
    {
     "data": {
      "application/vnd.jupyter.widget-view+json": {
       "model_id": "",
       "version_major": 2,
       "version_minor": 0
      },
      "text/plain": [
       "Validation: |          | 0/? [00:00<?, ?it/s]"
      ]
     },
     "metadata": {},
     "output_type": "display_data"
    },
    {
     "data": {
      "application/vnd.jupyter.widget-view+json": {
       "model_id": "",
       "version_major": 2,
       "version_minor": 0
      },
      "text/plain": [
       "Validation: |          | 0/? [00:00<?, ?it/s]"
      ]
     },
     "metadata": {},
     "output_type": "display_data"
    },
    {
     "data": {
      "application/vnd.jupyter.widget-view+json": {
       "model_id": "",
       "version_major": 2,
       "version_minor": 0
      },
      "text/plain": [
       "Validation: |          | 0/? [00:00<?, ?it/s]"
      ]
     },
     "metadata": {},
     "output_type": "display_data"
    },
    {
     "data": {
      "application/vnd.jupyter.widget-view+json": {
       "model_id": "",
       "version_major": 2,
       "version_minor": 0
      },
      "text/plain": [
       "Validation: |          | 0/? [00:00<?, ?it/s]"
      ]
     },
     "metadata": {},
     "output_type": "display_data"
    },
    {
     "data": {
      "application/vnd.jupyter.widget-view+json": {
       "model_id": "",
       "version_major": 2,
       "version_minor": 0
      },
      "text/plain": [
       "Validation: |          | 0/? [00:00<?, ?it/s]"
      ]
     },
     "metadata": {},
     "output_type": "display_data"
    },
    {
     "data": {
      "application/vnd.jupyter.widget-view+json": {
       "model_id": "",
       "version_major": 2,
       "version_minor": 0
      },
      "text/plain": [
       "Validation: |          | 0/? [00:00<?, ?it/s]"
      ]
     },
     "metadata": {},
     "output_type": "display_data"
    },
    {
     "data": {
      "application/vnd.jupyter.widget-view+json": {
       "model_id": "",
       "version_major": 2,
       "version_minor": 0
      },
      "text/plain": [
       "Validation: |          | 0/? [00:00<?, ?it/s]"
      ]
     },
     "metadata": {},
     "output_type": "display_data"
    },
    {
     "data": {
      "application/vnd.jupyter.widget-view+json": {
       "model_id": "",
       "version_major": 2,
       "version_minor": 0
      },
      "text/plain": [
       "Validation: |          | 0/? [00:00<?, ?it/s]"
      ]
     },
     "metadata": {},
     "output_type": "display_data"
    },
    {
     "data": {
      "application/vnd.jupyter.widget-view+json": {
       "model_id": "",
       "version_major": 2,
       "version_minor": 0
      },
      "text/plain": [
       "Validation: |          | 0/? [00:00<?, ?it/s]"
      ]
     },
     "metadata": {},
     "output_type": "display_data"
    },
    {
     "data": {
      "application/vnd.jupyter.widget-view+json": {
       "model_id": "",
       "version_major": 2,
       "version_minor": 0
      },
      "text/plain": [
       "Validation: |          | 0/? [00:00<?, ?it/s]"
      ]
     },
     "metadata": {},
     "output_type": "display_data"
    },
    {
     "data": {
      "application/vnd.jupyter.widget-view+json": {
       "model_id": "",
       "version_major": 2,
       "version_minor": 0
      },
      "text/plain": [
       "Validation: |          | 0/? [00:00<?, ?it/s]"
      ]
     },
     "metadata": {},
     "output_type": "display_data"
    },
    {
     "data": {
      "application/vnd.jupyter.widget-view+json": {
       "model_id": "",
       "version_major": 2,
       "version_minor": 0
      },
      "text/plain": [
       "Validation: |          | 0/? [00:00<?, ?it/s]"
      ]
     },
     "metadata": {},
     "output_type": "display_data"
    },
    {
     "data": {
      "application/vnd.jupyter.widget-view+json": {
       "model_id": "",
       "version_major": 2,
       "version_minor": 0
      },
      "text/plain": [
       "Validation: |          | 0/? [00:00<?, ?it/s]"
      ]
     },
     "metadata": {},
     "output_type": "display_data"
    },
    {
     "data": {
      "application/vnd.jupyter.widget-view+json": {
       "model_id": "",
       "version_major": 2,
       "version_minor": 0
      },
      "text/plain": [
       "Validation: |          | 0/? [00:00<?, ?it/s]"
      ]
     },
     "metadata": {},
     "output_type": "display_data"
    },
    {
     "data": {
      "application/vnd.jupyter.widget-view+json": {
       "model_id": "",
       "version_major": 2,
       "version_minor": 0
      },
      "text/plain": [
       "Validation: |          | 0/? [00:00<?, ?it/s]"
      ]
     },
     "metadata": {},
     "output_type": "display_data"
    },
    {
     "data": {
      "application/vnd.jupyter.widget-view+json": {
       "model_id": "",
       "version_major": 2,
       "version_minor": 0
      },
      "text/plain": [
       "Validation: |          | 0/? [00:00<?, ?it/s]"
      ]
     },
     "metadata": {},
     "output_type": "display_data"
    },
    {
     "name": "stderr",
     "output_type": "stream",
     "text": [
      "`Trainer.fit` stopped: `max_steps=1858` reached.\n",
      "GPU available: False, used: False\n",
      "TPU available: False, using: 0 TPU cores\n",
      "HPU available: False, using: 0 HPUs\n"
     ]
    },
    {
     "data": {
      "application/vnd.jupyter.widget-view+json": {
       "model_id": "9c73cb6350a944988554a1470bc21e3c",
       "version_major": 2,
       "version_minor": 0
      },
      "text/plain": [
       "Predicting: |          | 0/? [00:00<?, ?it/s]"
      ]
     },
     "metadata": {},
     "output_type": "display_data"
    },
    {
     "name": "stderr",
     "output_type": "stream",
     "text": [
      "/usr/local/lib/python3.11/site-packages/neuralforecast/core.py:209: FutureWarning: In a future version the predictions will have the id as a column. You can set the `NIXTLA_ID_AS_COL` environment variable to adopt the new behavior and to suppress this warning.\n",
      "  warnings.warn(\n",
      "2024/10/01 13:11:47 INFO mlflow.tracking._tracking_service.client: 🏃 View run KAN_2024-10-01 12:41:27.886653 at: http://mlflow:5000/#/experiments/4/runs/e3826fbc741a4a38917f4fc435d22269.\n",
      "2024/10/01 13:11:47 INFO mlflow.tracking._tracking_service.client: 🧪 View experiment at: http://mlflow:5000/#/experiments/4.\n",
      "[I 2024-10-01 13:11:47,801] Trial 9 finished with value: 0.867069087287707 and parameters: {'data_set_size': '10k', 'input_size': 572, 'max_steps': 1858, 'batch_size': 70, 'windows_batch_size': 272, 'learning_rate': 0.014727812669444522, 'spline_order': 6, 'scale_noise': 0.4548297677267268, 'scale_base': 1.897958103795256, 'scale_spline': 0.5209273594633955, 'grid_eps': 0.031092587750927846, 'n_hidden_layers': 2, 'hidden_size': 979}. Best is trial 4 with value: 0.6676827913365658.\n",
      "Seed set to 1\n"
     ]
    },
    {
     "name": "stdout",
     "output_type": "stream",
     "text": [
      "models: [KAN]\n",
      "params: {'data_set_size': '15k', 'h': 48, 'loss': 'MQLoss(level=[99, 95, 90, 75, 50])', 'random_seed': 1, 'input_size': 842, 'max_steps': 1505, 'batch_size': 164, 'learning_rate': 0.007046387224921253, 'windows_batch_size': 358, 'spline_order': 4, 'scale_noise': 0.15410319456863691, 'scale_base': 1.1382955139590518, 'scale_spline': 1.9714489838135807, 'grid_eps': 0.07271240563281793, 'n_hidden_layers': 1, 'hidden_size': 557}\n"
     ]
    },
    {
     "name": "stderr",
     "output_type": "stream",
     "text": [
      "GPU available: False, used: False\n",
      "TPU available: False, using: 0 TPU cores\n",
      "HPU available: False, using: 0 HPUs\n",
      "\n",
      "  | Name         | Type          | Params | Mode \n",
      "-------------------------------------------------------\n",
      "0 | loss         | MQLoss        | 11     | train\n",
      "1 | padder_train | ConstantPad1d | 0      | train\n",
      "2 | scaler       | TemporalNorm  | 0      | train\n",
      "3 | layers       | ModuleList    | 8.4 M  | train\n",
      "-------------------------------------------------------\n",
      "8.4 M     Trainable params\n",
      "11        Non-trainable params\n",
      "8.4 M     Total params\n",
      "33.576    Total estimated model params size (MB)\n",
      "8         Modules in train mode\n",
      "0         Modules in eval mode\n"
     ]
    },
    {
     "data": {
      "application/vnd.jupyter.widget-view+json": {
       "model_id": "",
       "version_major": 2,
       "version_minor": 0
      },
      "text/plain": [
       "Sanity Checking: |          | 0/? [00:00<?, ?it/s]"
      ]
     },
     "metadata": {},
     "output_type": "display_data"
    },
    {
     "data": {
      "application/vnd.jupyter.widget-view+json": {
       "model_id": "336964b646df45fa8f933add0d1013fd",
       "version_major": 2,
       "version_minor": 0
      },
      "text/plain": [
       "Training: |          | 0/? [00:00<?, ?it/s]"
      ]
     },
     "metadata": {},
     "output_type": "display_data"
    },
    {
     "data": {
      "application/vnd.jupyter.widget-view+json": {
       "model_id": "",
       "version_major": 2,
       "version_minor": 0
      },
      "text/plain": [
       "Validation: |          | 0/? [00:00<?, ?it/s]"
      ]
     },
     "metadata": {},
     "output_type": "display_data"
    },
    {
     "data": {
      "application/vnd.jupyter.widget-view+json": {
       "model_id": "",
       "version_major": 2,
       "version_minor": 0
      },
      "text/plain": [
       "Validation: |          | 0/? [00:00<?, ?it/s]"
      ]
     },
     "metadata": {},
     "output_type": "display_data"
    },
    {
     "data": {
      "application/vnd.jupyter.widget-view+json": {
       "model_id": "",
       "version_major": 2,
       "version_minor": 0
      },
      "text/plain": [
       "Validation: |          | 0/? [00:00<?, ?it/s]"
      ]
     },
     "metadata": {},
     "output_type": "display_data"
    },
    {
     "data": {
      "application/vnd.jupyter.widget-view+json": {
       "model_id": "",
       "version_major": 2,
       "version_minor": 0
      },
      "text/plain": [
       "Validation: |          | 0/? [00:00<?, ?it/s]"
      ]
     },
     "metadata": {},
     "output_type": "display_data"
    },
    {
     "data": {
      "application/vnd.jupyter.widget-view+json": {
       "model_id": "",
       "version_major": 2,
       "version_minor": 0
      },
      "text/plain": [
       "Validation: |          | 0/? [00:00<?, ?it/s]"
      ]
     },
     "metadata": {},
     "output_type": "display_data"
    },
    {
     "data": {
      "application/vnd.jupyter.widget-view+json": {
       "model_id": "",
       "version_major": 2,
       "version_minor": 0
      },
      "text/plain": [
       "Validation: |          | 0/? [00:00<?, ?it/s]"
      ]
     },
     "metadata": {},
     "output_type": "display_data"
    },
    {
     "data": {
      "application/vnd.jupyter.widget-view+json": {
       "model_id": "",
       "version_major": 2,
       "version_minor": 0
      },
      "text/plain": [
       "Validation: |          | 0/? [00:00<?, ?it/s]"
      ]
     },
     "metadata": {},
     "output_type": "display_data"
    },
    {
     "data": {
      "application/vnd.jupyter.widget-view+json": {
       "model_id": "",
       "version_major": 2,
       "version_minor": 0
      },
      "text/plain": [
       "Validation: |          | 0/? [00:00<?, ?it/s]"
      ]
     },
     "metadata": {},
     "output_type": "display_data"
    },
    {
     "data": {
      "application/vnd.jupyter.widget-view+json": {
       "model_id": "",
       "version_major": 2,
       "version_minor": 0
      },
      "text/plain": [
       "Validation: |          | 0/? [00:00<?, ?it/s]"
      ]
     },
     "metadata": {},
     "output_type": "display_data"
    },
    {
     "data": {
      "application/vnd.jupyter.widget-view+json": {
       "model_id": "",
       "version_major": 2,
       "version_minor": 0
      },
      "text/plain": [
       "Validation: |          | 0/? [00:00<?, ?it/s]"
      ]
     },
     "metadata": {},
     "output_type": "display_data"
    },
    {
     "data": {
      "application/vnd.jupyter.widget-view+json": {
       "model_id": "",
       "version_major": 2,
       "version_minor": 0
      },
      "text/plain": [
       "Validation: |          | 0/? [00:00<?, ?it/s]"
      ]
     },
     "metadata": {},
     "output_type": "display_data"
    },
    {
     "data": {
      "application/vnd.jupyter.widget-view+json": {
       "model_id": "",
       "version_major": 2,
       "version_minor": 0
      },
      "text/plain": [
       "Validation: |          | 0/? [00:00<?, ?it/s]"
      ]
     },
     "metadata": {},
     "output_type": "display_data"
    },
    {
     "data": {
      "application/vnd.jupyter.widget-view+json": {
       "model_id": "",
       "version_major": 2,
       "version_minor": 0
      },
      "text/plain": [
       "Validation: |          | 0/? [00:00<?, ?it/s]"
      ]
     },
     "metadata": {},
     "output_type": "display_data"
    },
    {
     "data": {
      "application/vnd.jupyter.widget-view+json": {
       "model_id": "",
       "version_major": 2,
       "version_minor": 0
      },
      "text/plain": [
       "Validation: |          | 0/? [00:00<?, ?it/s]"
      ]
     },
     "metadata": {},
     "output_type": "display_data"
    },
    {
     "data": {
      "application/vnd.jupyter.widget-view+json": {
       "model_id": "",
       "version_major": 2,
       "version_minor": 0
      },
      "text/plain": [
       "Validation: |          | 0/? [00:00<?, ?it/s]"
      ]
     },
     "metadata": {},
     "output_type": "display_data"
    },
    {
     "name": "stderr",
     "output_type": "stream",
     "text": [
      "`Trainer.fit` stopped: `max_steps=1505` reached.\n",
      "GPU available: False, used: False\n",
      "TPU available: False, using: 0 TPU cores\n",
      "HPU available: False, using: 0 HPUs\n"
     ]
    },
    {
     "data": {
      "application/vnd.jupyter.widget-view+json": {
       "model_id": "13c4e35d44d24e819c201598d41edeff",
       "version_major": 2,
       "version_minor": 0
      },
      "text/plain": [
       "Predicting: |          | 0/? [00:00<?, ?it/s]"
      ]
     },
     "metadata": {},
     "output_type": "display_data"
    },
    {
     "name": "stderr",
     "output_type": "stream",
     "text": [
      "/usr/local/lib/python3.11/site-packages/neuralforecast/core.py:209: FutureWarning: In a future version the predictions will have the id as a column. You can set the `NIXTLA_ID_AS_COL` environment variable to adopt the new behavior and to suppress this warning.\n",
      "  warnings.warn(\n",
      "2024/10/01 13:20:06 INFO mlflow.tracking._tracking_service.client: 🏃 View run KAN_2024-10-01 13:11:48.138014 at: http://mlflow:5000/#/experiments/4/runs/c48ee5b67a5b4054a00a0d4bd6e37a0d.\n",
      "2024/10/01 13:20:06 INFO mlflow.tracking._tracking_service.client: 🧪 View experiment at: http://mlflow:5000/#/experiments/4.\n",
      "[I 2024-10-01 13:20:06,061] Trial 10 finished with value: 0.7605481312551486 and parameters: {'data_set_size': '15k', 'input_size': 842, 'max_steps': 1505, 'batch_size': 164, 'windows_batch_size': 358, 'learning_rate': 0.007046387224921253, 'spline_order': 4, 'scale_noise': 0.15410319456863691, 'scale_base': 1.1382955139590518, 'scale_spline': 1.9714489838135807, 'grid_eps': 0.07271240563281793, 'n_hidden_layers': 1, 'hidden_size': 557}. Best is trial 4 with value: 0.6676827913365658.\n",
      "Seed set to 1\n"
     ]
    },
    {
     "name": "stdout",
     "output_type": "stream",
     "text": [
      "models: [KAN]\n",
      "params: {'data_set_size': '6k', 'h': 48, 'loss': 'MQLoss(level=[99, 95, 90, 75, 50])', 'random_seed': 1, 'input_size': 754, 'max_steps': 864, 'batch_size': 92, 'learning_rate': 0.008786255899493667, 'windows_batch_size': 459, 'spline_order': 4, 'scale_noise': 0.3042115627340472, 'scale_base': 1.2979787108781555, 'scale_spline': 1.1925276520720898, 'grid_eps': 0.04830497652273892, 'n_hidden_layers': 1, 'hidden_size': 521}\n"
     ]
    },
    {
     "name": "stderr",
     "output_type": "stream",
     "text": [
      "GPU available: False, used: False\n",
      "TPU available: False, using: 0 TPU cores\n",
      "HPU available: False, using: 0 HPUs\n",
      "\n",
      "  | Name         | Type          | Params | Mode \n",
      "-------------------------------------------------------\n",
      "0 | loss         | MQLoss        | 11     | train\n",
      "1 | padder_train | ConstantPad1d | 0      | train\n",
      "2 | scaler       | TemporalNorm  | 0      | train\n",
      "3 | layers       | ModuleList    | 7.3 M  | train\n",
      "-------------------------------------------------------\n",
      "7.3 M     Trainable params\n",
      "11        Non-trainable params\n",
      "7.3 M     Total params\n",
      "29.389    Total estimated model params size (MB)\n",
      "8         Modules in train mode\n",
      "0         Modules in eval mode\n"
     ]
    },
    {
     "data": {
      "application/vnd.jupyter.widget-view+json": {
       "model_id": "",
       "version_major": 2,
       "version_minor": 0
      },
      "text/plain": [
       "Sanity Checking: |          | 0/? [00:00<?, ?it/s]"
      ]
     },
     "metadata": {},
     "output_type": "display_data"
    },
    {
     "data": {
      "application/vnd.jupyter.widget-view+json": {
       "model_id": "cb83c5f597524b4cb82bc3f0224d32bd",
       "version_major": 2,
       "version_minor": 0
      },
      "text/plain": [
       "Training: |          | 0/? [00:00<?, ?it/s]"
      ]
     },
     "metadata": {},
     "output_type": "display_data"
    },
    {
     "data": {
      "application/vnd.jupyter.widget-view+json": {
       "model_id": "",
       "version_major": 2,
       "version_minor": 0
      },
      "text/plain": [
       "Validation: |          | 0/? [00:00<?, ?it/s]"
      ]
     },
     "metadata": {},
     "output_type": "display_data"
    },
    {
     "data": {
      "application/vnd.jupyter.widget-view+json": {
       "model_id": "",
       "version_major": 2,
       "version_minor": 0
      },
      "text/plain": [
       "Validation: |          | 0/? [00:00<?, ?it/s]"
      ]
     },
     "metadata": {},
     "output_type": "display_data"
    },
    {
     "data": {
      "application/vnd.jupyter.widget-view+json": {
       "model_id": "",
       "version_major": 2,
       "version_minor": 0
      },
      "text/plain": [
       "Validation: |          | 0/? [00:00<?, ?it/s]"
      ]
     },
     "metadata": {},
     "output_type": "display_data"
    },
    {
     "data": {
      "application/vnd.jupyter.widget-view+json": {
       "model_id": "",
       "version_major": 2,
       "version_minor": 0
      },
      "text/plain": [
       "Validation: |          | 0/? [00:00<?, ?it/s]"
      ]
     },
     "metadata": {},
     "output_type": "display_data"
    },
    {
     "data": {
      "application/vnd.jupyter.widget-view+json": {
       "model_id": "",
       "version_major": 2,
       "version_minor": 0
      },
      "text/plain": [
       "Validation: |          | 0/? [00:00<?, ?it/s]"
      ]
     },
     "metadata": {},
     "output_type": "display_data"
    },
    {
     "data": {
      "application/vnd.jupyter.widget-view+json": {
       "model_id": "",
       "version_major": 2,
       "version_minor": 0
      },
      "text/plain": [
       "Validation: |          | 0/? [00:00<?, ?it/s]"
      ]
     },
     "metadata": {},
     "output_type": "display_data"
    },
    {
     "data": {
      "application/vnd.jupyter.widget-view+json": {
       "model_id": "",
       "version_major": 2,
       "version_minor": 0
      },
      "text/plain": [
       "Validation: |          | 0/? [00:00<?, ?it/s]"
      ]
     },
     "metadata": {},
     "output_type": "display_data"
    },
    {
     "data": {
      "application/vnd.jupyter.widget-view+json": {
       "model_id": "",
       "version_major": 2,
       "version_minor": 0
      },
      "text/plain": [
       "Validation: |          | 0/? [00:00<?, ?it/s]"
      ]
     },
     "metadata": {},
     "output_type": "display_data"
    },
    {
     "name": "stderr",
     "output_type": "stream",
     "text": [
      "`Trainer.fit` stopped: `max_steps=864` reached.\n",
      "GPU available: False, used: False\n",
      "TPU available: False, using: 0 TPU cores\n",
      "HPU available: False, using: 0 HPUs\n"
     ]
    },
    {
     "data": {
      "application/vnd.jupyter.widget-view+json": {
       "model_id": "e60ac9c226394f9b91642534173c44f0",
       "version_major": 2,
       "version_minor": 0
      },
      "text/plain": [
       "Predicting: |          | 0/? [00:00<?, ?it/s]"
      ]
     },
     "metadata": {},
     "output_type": "display_data"
    },
    {
     "name": "stderr",
     "output_type": "stream",
     "text": [
      "/usr/local/lib/python3.11/site-packages/neuralforecast/core.py:209: FutureWarning: In a future version the predictions will have the id as a column. You can set the `NIXTLA_ID_AS_COL` environment variable to adopt the new behavior and to suppress this warning.\n",
      "  warnings.warn(\n",
      "2024/10/01 13:25:14 INFO mlflow.tracking._tracking_service.client: 🏃 View run KAN_2024-10-01 13:20:06.302168 at: http://mlflow:5000/#/experiments/4/runs/614ba977b1d94fa79f0cb6b07208f1cd.\n",
      "2024/10/01 13:25:14 INFO mlflow.tracking._tracking_service.client: 🧪 View experiment at: http://mlflow:5000/#/experiments/4.\n",
      "[I 2024-10-01 13:25:14,472] Trial 11 finished with value: 0.719457232330238 and parameters: {'data_set_size': '6k', 'input_size': 754, 'max_steps': 864, 'batch_size': 92, 'windows_batch_size': 459, 'learning_rate': 0.008786255899493667, 'spline_order': 4, 'scale_noise': 0.3042115627340472, 'scale_base': 1.2979787108781555, 'scale_spline': 1.1925276520720898, 'grid_eps': 0.04830497652273892, 'n_hidden_layers': 1, 'hidden_size': 521}. Best is trial 4 with value: 0.6676827913365658.\n",
      "Seed set to 1\n"
     ]
    },
    {
     "name": "stdout",
     "output_type": "stream",
     "text": [
      "models: [KAN]\n",
      "params: {'data_set_size': '6k', 'h': 48, 'loss': 'MQLoss(level=[99, 95, 90, 75, 50])', 'random_seed': 1, 'input_size': 661, 'max_steps': 1428, 'batch_size': 71, 'learning_rate': 0.014934168740483734, 'windows_batch_size': 467, 'spline_order': 5, 'scale_noise': 0.2778139540433223, 'scale_base': 1.9299615388727047, 'scale_spline': 1.454529560565772, 'grid_eps': 0.013281065475148172, 'n_hidden_layers': 2, 'hidden_size': 410}\n"
     ]
    },
    {
     "name": "stderr",
     "output_type": "stream",
     "text": [
      "GPU available: False, used: False\n",
      "TPU available: False, using: 0 TPU cores\n",
      "HPU available: False, using: 0 HPUs\n",
      "\n",
      "  | Name         | Type          | Params | Mode \n",
      "-------------------------------------------------------\n",
      "0 | loss         | MQLoss        | 11     | train\n",
      "1 | padder_train | ConstantPad1d | 0      | train\n",
      "2 | scaler       | TemporalNorm  | 0      | train\n",
      "3 | layers       | ModuleList    | 7.9 M  | train\n",
      "-------------------------------------------------------\n",
      "7.9 M     Trainable params\n",
      "11        Non-trainable params\n",
      "7.9 M     Total params\n",
      "31.468    Total estimated model params size (MB)\n",
      "10        Modules in train mode\n",
      "0         Modules in eval mode\n"
     ]
    },
    {
     "data": {
      "application/vnd.jupyter.widget-view+json": {
       "model_id": "",
       "version_major": 2,
       "version_minor": 0
      },
      "text/plain": [
       "Sanity Checking: |          | 0/? [00:00<?, ?it/s]"
      ]
     },
     "metadata": {},
     "output_type": "display_data"
    },
    {
     "data": {
      "application/vnd.jupyter.widget-view+json": {
       "model_id": "3a7d642ce24b456495c9af5ed8300a81",
       "version_major": 2,
       "version_minor": 0
      },
      "text/plain": [
       "Training: |          | 0/? [00:00<?, ?it/s]"
      ]
     },
     "metadata": {},
     "output_type": "display_data"
    },
    {
     "data": {
      "application/vnd.jupyter.widget-view+json": {
       "model_id": "",
       "version_major": 2,
       "version_minor": 0
      },
      "text/plain": [
       "Validation: |          | 0/? [00:00<?, ?it/s]"
      ]
     },
     "metadata": {},
     "output_type": "display_data"
    },
    {
     "data": {
      "application/vnd.jupyter.widget-view+json": {
       "model_id": "",
       "version_major": 2,
       "version_minor": 0
      },
      "text/plain": [
       "Validation: |          | 0/? [00:00<?, ?it/s]"
      ]
     },
     "metadata": {},
     "output_type": "display_data"
    },
    {
     "data": {
      "application/vnd.jupyter.widget-view+json": {
       "model_id": "",
       "version_major": 2,
       "version_minor": 0
      },
      "text/plain": [
       "Validation: |          | 0/? [00:00<?, ?it/s]"
      ]
     },
     "metadata": {},
     "output_type": "display_data"
    }
   ],
   "source": [
    "study.optimize(objective, n_trials=10000)\n",
    "\n",
    "clear_output()"
   ]
  }
 ],
 "metadata": {
  "kernelspec": {
   "display_name": "Python 3 (ipykernel)",
   "language": "python",
   "name": "python3"
  },
  "language_info": {
   "codemirror_mode": {
    "name": "ipython",
    "version": 3
   },
   "file_extension": ".py",
   "mimetype": "text/x-python",
   "name": "python",
   "nbconvert_exporter": "python",
   "pygments_lexer": "ipython3",
   "version": "3.11.10"
  }
 },
 "nbformat": 4,
 "nbformat_minor": 5
}
